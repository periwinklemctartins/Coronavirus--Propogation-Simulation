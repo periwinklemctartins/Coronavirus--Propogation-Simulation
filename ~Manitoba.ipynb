{
  "nbformat": 4,
  "nbformat_minor": 0,
  "metadata": {
    "colab": {
      "name": "Untitled0.ipynb",
      "provenance": [],
      "include_colab_link": true
    },
    "kernelspec": {
      "name": "python3",
      "display_name": "Python 3"
    }
  },
  "cells": [
    {
      "cell_type": "markdown",
      "metadata": {
        "id": "view-in-github",
        "colab_type": "text"
      },
      "source": [
        "<a href=\"https://colab.research.google.com/github/periwinklemctartins/Coronavirus--Propogation-Simulation/blob/master/~Manitoba.ipynb\" target=\"_parent\"><img src=\"https://colab.research.google.com/assets/colab-badge.svg\" alt=\"Open In Colab\"/></a>"
      ]
    },
    {
      "cell_type": "code",
      "metadata": {
        "id": "LO2bSPsWNlqB",
        "colab_type": "code",
        "colab": {}
      },
      "source": [
        "import pandas as pd\n",
        "import torch\n",
        "import matplotlib.pyplot as plt\n",
        "import matplotlib           \n",
        "import numpy as np\n",
        "import torch.nn as nn\n",
        "import torch.nn.functional as F\n",
        "\n",
        "#Connections between Canadian Provinces\n",
        "A = torch.tensor([[1,     1,     1,     0,     0,     0,     0,     0,     1,     0,     1,     1,     1],\n",
        "                  [1,     1,     1,     0,     0,     1,     0,     0,     1,     0,     1,     1,     0],\n",
        "                  [1,     1,     1,     0,     0,     1,     0,     1,     1,     0,     1,     1,     0],\n",
        "                  [0,     0,     0,     1,     1,     0,     0,     0,     1,     1,     1,     0,     0],\n",
        "                  [0,     0,     0,     1,     1,     0,     1,     0,     1,     1,     1,     0,     0],\n",
        "                  [0,     1,     1,     0,     0,     1,     0,     1,     1,     0,     1,     1,     1],\n",
        "                  [0,     0,     0,     0,     1,     0,     1,     0,     1,     1,     1,     0,     0],\n",
        "                  [0,     0,     1,     0,     0,     1,     0,     1,     1,     0,     1,     1,     1],\n",
        "                  [1,     1,     1,     1,     1,     1,     1,     1,     1,     1,     1,     1,     1],\n",
        "                  [0,     0,     0,     1,     1,     0,     1,     0,     1,     1,     1,     0,     0],\n",
        "                  [1,     1,     1,     1,     1,     1,     1,     1,     1,     1,     1,     1,     1],\n",
        "                  [1,     1,     1,     0,     0,     1,     0,     1,     1,     0,     1,     1,     0],\n",
        "                  [1,     0,     0,     0,     0,     1,     0,     1,     1,     0,     1,     0,     1]]);\n",
        "\n",
        "#Number of connections each province has                  \n",
        "L = torch.tensor([[6,    -1,    -1,     0,     0,     0,     0,     0,    -1,     0,    -1,    -1,    -1], \n",
        "                  [-1,    6,    -1,     0,     0,    -1,     0,     0,    -1,     0,    -1,    -1,     0],\n",
        "                  [-1,    1,     7,     0,     0,    -1,     0,    -1,    -1,     0,    -1,    -1,     0],\n",
        "                  [0,     0,     0,     4,    -1,     0,     0,     0,    -1,    -1,    -1,     0,     0],\n",
        "                  [0,     0,     0,    -1,     5,     0,    -1,     0,    -1,    -1,    -1,     0,     0],\n",
        "                  [0,    -1,    -1,     0,     0,     7,     0,    -1,    -1,     0,    -1,    -1,    -1],\n",
        "                  [0,     0,     0,     0,    -1,     0,     4,     0,    -1,    -1,    -1,     0,     0],\n",
        "                  [0,     0,    -1,     0,     0,    -1,     0,     6,    -1,     0,    -1,    -1,    -1],\n",
        "                  [-1,    -1,    -1,    -1,    -1,    -1,    -1,    -1,    12,    -1,    -1,    -1,   -1],\n",
        "                  [0,     0,     0,    -1,    -1,     0,    -1,     0,    -1,     5,    -1,     0,     0],\n",
        "                  [-1,    -1,    -1,    -1,    -1,    -1,    -1,    -1,    -1,    -1,    12,    -1,   -1],\n",
        "                  [-1,    -1,    -1,     0,     0,    -1,     0,    -1,    -1,     0,    -1,     7,    0],\n",
        "                  [-1,     0,     0,     0,     0,    -1,     0,    -1,    -1,     0,    -1,     0,    5]]);\n",
        "\n"
      ],
      "execution_count": 0,
      "outputs": []
    },
    {
      "cell_type": "code",
      "metadata": {
        "id": "f8Ls36tkNqqO",
        "colab_type": "code",
        "colab": {}
      },
      "source": [
        "def SEImodel(theta,S,E,I):\n",
        "    alpha = theta[0]\n",
        "    beta  = theta[1]\n",
        "    gamma = theta[2]\n",
        "    mu    = theta[3]\n",
        "    kE    = theta[4]\n",
        "    kS    = theta[5]\n",
        "    kI    = theta[6]\n",
        "    \n",
        "\n",
        "    dSdt  = -kS*L[n,n]*S - beta*E*S - gamma*I*S                 # dS/dt\n",
        "    dEdt  = -kE*L[n,n]*E + beta*E*S  + gamma*I*S - alpha*E      # dE/dt\n",
        "    dIdt  = -kI*L[n,n]*I + alpha*E - mu*I                       # dI/dt\n",
        "    \n",
        "    return dSdt, dEdt, dIdt\n",
        "\n",
        "\n"
      ],
      "execution_count": 0,
      "outputs": []
    },
    {
      "cell_type": "code",
      "metadata": {
        "id": "TjBsWqAWNtIG",
        "colab_type": "code",
        "colab": {}
      },
      "source": [
        "def integrateSEI(theta,S0,E0,I0,dt,nt):\n",
        "    \n",
        "    # vectors to save the results over time\n",
        "    Sout = torch.zeros(nt+1); Sout[0] = S0\n",
        "    Eout = torch.zeros(nt+1); Eout[0] = E0\n",
        "    Iout = torch.zeros(nt+1); Iout[0] = I0\n",
        "    \n",
        "    S = S0; E = E0; I = I0\n",
        "    for i in range(nt):\n",
        "        dSdt, dEdt, dIdt = SEImodel(theta,S,E,I)\n",
        " \n",
        "\n",
        "        S += dt*dSdt\n",
        "        E += dt*dEdt\n",
        "        I += dt*dIdt\n",
        "\n",
        "        Sout[i+1] = S\n",
        "        Eout[i+1] = E\n",
        "        Iout[i+1] = I\n",
        "       \n",
        "    if I >= 0.05:\n",
        "      print(S,E,I)\n",
        "      return Sout, Eout, Iout\n",
        "       \n",
        "    return Sout, Eout, Iout\n",
        "    \n"
      ],
      "execution_count": 0,
      "outputs": []
    },
    {
      "cell_type": "code",
      "metadata": {
        "id": "dwTfHyfHNvYK",
        "colab_type": "code",
        "outputId": "8086995f-797f-4328-dd6d-8ce62ccb2806",
        "colab": {
          "base_uri": "https://localhost:8080/",
          "height": 281
        }
      },
      "source": [
        "#MB Data as of March 22 2020\n",
        "PopulationMB = 1369000  #Census Canada\n",
        "Recovered = 0          #Deceased -> it is impossible to tell if people who have recovered have returned to being infected\n",
        "Infected = 19 - Recovered    #https://www150.statcan.gc.ca/n1/daily-quotidien/200428/dq200428a-eng.htm\n",
        "Succeptible = PopulationMB - Infected\n",
        "#Exposed -> true value is unknown -> assume 15% of those who are exposed are not sick\n",
        "\n",
        "xmin = 0; xmax = 2.5;\n",
        "ymin = 0; ymax = .01;\n",
        "\n",
        "#April 2nd highest amount of new infected, good data can be found here https://experience.arcgis.com/experience/f55693e56018406ebbd08b3492e99771\n",
        "S0 = Succeptible/PopulationMB\n",
        "E0 = 0.0265\n",
        "I0 = Infected/PopulationMB\n",
        "\n",
        "# Set the duration for the simulation\n",
        "dt = 0.05; nt = 50\n",
        "\n",
        "# We pick the parameters as follows\n",
        "alpha = .6       #rate of exposed people that get sick\n",
        "beta  = .2       #rate of interaction of exposed and susceptible\n",
        "gamma = .1       #rate of interaction infected and susceptible\n",
        "mu    = 0.021       #rate of pepole who get resistence or die\n",
        "kE    = 0.6       #Exposed people that move around\n",
        "kS    = 0.9       #Susceptible people that move around\n",
        "kI    = 0.1     #Sick people that move around (Diffusion of sick people)\n",
        "theta = torch.tensor([alpha, beta, gamma, mu, kE, kS, kI])\n",
        "\n",
        "P = ['AB', 'BC', 'MB', 'NB', 'NL', 'NT', 'NS', 'NU', 'ON', 'PE', 'QC', 'SK', 'YT']\n",
        "for n in range(1):\n",
        "\n",
        "  S, E, I = integrateSEI(theta,S0,E0,I0,dt,nt)\n",
        "\n",
        "  t = np.arange(nt+1)*dt\n",
        "  title = 'maximum of infected people % on a given day', P[2], torch.max(I).item()\n",
        "  plt.figure(2)\n",
        "  plt.title(title)\n",
        "  plt.plot(t,S,t,E,t,I)\n",
        "\n",
        "  axes = plt.gca()\n",
        "  axes.set_xlim([xmin,xmax])\n",
        "  axes.set_ylim([ymin,ymax])\n"
      ],
      "execution_count": 164,
      "outputs": [
        {
          "output_type": "display_data",
          "data": {
            "image/png": "[encoded data removed]",
            "text/plain": [
              "<Figure size 432x288 with 1 Axes>"
            ]
          },
          "metadata": {
            "tags": [],
            "needs_background": "light"
          }
        }
      ]
    },
    {
      "cell_type": "code",
      "metadata": {
        "id": "iiE0bJG9R_rq",
        "colab_type": "code",
        "colab": {}
      },
      "source": [
        "#def ChemReacTime(beta,gamma,S0,E0,I0,dt,nt):  #Looks to be similar to integrateSEI\n",
        "#    \n",
        "#    A = torch.zeros(nt+1); B = torch.zeros(nt+1)\n",
        "#    S[0] = S0; E[0] = E0; I[0] = I0\n",
        "#    for i in range(nt):\n",
        "#        F = ChemReac(alpha,beta,gamma,S[i],E[i],I[i])\n",
        "#        S[i+1] = S[i] + dt*F[0]\n",
        "#        E[i+1] = E[i] + dt*F[1]\n",
        "#        I[i+1] = I[i] + dt*F[2]\n",
        "#        \n",
        "#    return S, E, I"
      ],
      "execution_count": 0,
      "outputs": []
    },
    {
      "cell_type": "code",
      "metadata": {
        "id": "o_o1vVs0KXhk",
        "colab_type": "code",
        "colab": {}
      },
      "source": [
        "#def ChemReac(alpha,beta,gamma,A,B):  #Looks to be similar to SEImodel\n",
        "#    \n",
        "#    F = torch.zeros(3)\n",
        "#    F[0]  = -kS*L[n,n]*S - beta*E*S - gamma*I*S                 # dS/dt\n",
        "#    F[1]  = -kE*L[n,n]*E + beta*E*S  + gamma*I*S - alpha*E      # dE/dt\n",
        "#    F[2]  = -kI*L[n,n]*I + alpha*E - mu*I                       # dI/dt\n",
        "#    \n",
        "#    return F"
      ],
      "execution_count": 0,
      "outputs": []
    },
    {
      "cell_type": "code",
      "metadata": {
        "id": "tB8wL6-PQdZn",
        "colab_type": "code",
        "colab": {
          "base_uri": "https://localhost:8080/",
          "height": 282
        },
        "outputId": "42bcb872-ef55-4e59-c983-1d015984cffe"
      },
      "source": [
        "t = np.arange(nt+1); t = t*dt\n",
        "\n",
        "# Add noise to the data\n",
        "ndata = S.shape\n",
        "nS = torch.randn(ndata[0])*0.05\n",
        "nE = torch.randn(ndata[0])*0.05\n",
        "nI = torch.randn(ndata[0])*0.05\n",
        "\n",
        "Sobs = S+nS; Eobs = E+nE; Iobs = I+nI  #observed plus noise\n",
        "\n",
        "# This is what we observe\n",
        "plt.plot(t,Sobs) #make noise smaller to make the curves nicer\n",
        "plt.plot(t,Eobs)\n",
        "plt.plot(t,Iobs) \n"
      ],
      "execution_count": 48,
      "outputs": [
        {
          "output_type": "execute_result",
          "data": {
            "text/plain": [
              "[<matplotlib.lines.Line2D at 0x7f0678b485c0>]"
            ]
          },
          "metadata": {
            "tags": []
          },
          "execution_count": 48
        },
        {
          "output_type": "display_data",
          "data": {
            "image/png": "[encoded data removed]",
            "text/plain": [
              "<Figure size 432x288 with 1 Axes>"
            ]
          },
          "metadata": {
            "tags": [],
            "needs_background": "light"
          }
        }
      ]
    },
    {
      "cell_type": "code",
      "metadata": {
        "id": "0wo_V9z6RDLc",
        "colab_type": "code",
        "colab": {}
      },
      "source": [
        "def loss(alpha,beta,gamma,Sobs,Eobs,Iobs,nt,dt):\n",
        "    \n",
        "    Scomp, Ecomp, Icomp = integrateSEI(theta,S0,E0,I0,dt,nt) #comp is computed from code with a chosen beta, gamma \n",
        "    phi = torch.sum((Scomp-Sobs)**2) + torch.sum((Ecomp-Eobs)**2) + torch.sum((Icomp-Iobs)**2) #if comp and obs is the same then phi goes to zero\n",
        "    \n",
        "    return phi\n"
      ],
      "execution_count": 0,
      "outputs": []
    },
    {
      "cell_type": "code",
      "metadata": {
        "id": "Bj_6cew9K_Pv",
        "colab_type": "code",
        "colab": {
          "base_uri": "https://localhost:8080/",
          "height": 303
        },
        "outputId": "6914a9f2-4ed4-44a6-84d3-a16fedb4b7d0"
      },
      "source": [
        "Phi = torch.zeros(64,64)\n",
        "b = np.arange(64)/64.0; g = np.arange(64)/16.0; h = np.arange(64)/4.0;\n",
        "for i in range(64):\n",
        "    for j in range(64):\n",
        "      for k in range(64):\n",
        "        t = loss(b[i],g[j],h[k],Sobs,Eobs,Iobs,nt,dt)        \n",
        "        Phi[i,j] = t\n",
        "print(loss(alpha,beta,gamma,Sobs,Eobs,Iobs,nt,dt))       \n",
        "plt.imshow(Phi)\n",
        "plt.colorbar()"
      ],
      "execution_count": 32,
      "outputs": [
        {
          "output_type": "stream",
          "text": [
            "tensor(0.3538)\n"
          ],
          "name": "stdout"
        },
        {
          "output_type": "execute_result",
          "data": {
            "text/plain": [
              "<matplotlib.colorbar.Colorbar at 0x7f0678dbbac8>"
            ]
          },
          "metadata": {
            "tags": []
          },
          "execution_count": 32
        },
        {
          "output_type": "display_data",
          "data": {
            "image/png": "[encoded data removed]",
            "text/plain": [
              "<Figure size 432x288 with 2 Axes>"
            ]
          },
          "metadata": {
            "tags": [],
            "needs_background": "light"
          }
        }
      ]
    },
    {
      "cell_type": "code",
      "metadata": {
        "id": "HYdlKB4ATMo5",
        "colab_type": "code",
        "colab": {}
      },
      "source": [
        "def SumOfSquares(x):\n",
        "    return 0.5*torch.sum(x**2)"
      ],
      "execution_count": 0,
      "outputs": []
    },
    {
      "cell_type": "code",
      "metadata": {
        "id": "FVN92klKTdJd",
        "colab_type": "code",
        "colab": {
          "base_uri": "https://localhost:8080/",
          "height": 232
        },
        "outputId": "3a66ff07-38c5-461d-cca0-14916dda5ae8"
      },
      "source": [
        "# Now we compute gradients\n",
        "x = torch.tensor(S, requires_grad=True)\n",
        "SofSquares = SumOfSquares(x)\n",
        "\n",
        "\n",
        "# Differentiate S, the gradient with respect to S is stored in S\n",
        "SofSquares.backward()\n",
        "grady = x.grad\n",
        "\n",
        "print(grady)\n"
      ],
      "execution_count": 50,
      "outputs": [
        {
          "output_type": "stream",
          "text": [
            "tensor([9.9996e-01, 8.1742e-01, 6.6851e-01, 5.4694e-01, 4.4762e-01, 3.6645e-01,\n",
            "        3.0007e-01, 2.4577e-01, 2.0133e-01, 1.6494e-01, 1.3516e-01, 1.1076e-01,\n",
            "        9.0773e-02, 7.4400e-02, 6.0984e-02, 4.9990e-02, 4.0980e-02, 3.3595e-02,\n",
            "        2.7542e-02, 2.2580e-02, 1.8513e-02, 1.5178e-02, 1.2445e-02, 1.0204e-02,\n",
            "        8.3662e-03, 6.8597e-03, 5.6246e-03, 4.6119e-03, 3.7815e-03, 3.1007e-03,\n",
            "        2.5425e-03, 2.0848e-03, 1.7095e-03, 1.4017e-03, 1.1494e-03, 9.4247e-04,\n",
            "        7.7281e-04, 6.3369e-04, 5.1962e-04, 4.2608e-04, 3.4939e-04, 2.8649e-04,\n",
            "        2.3492e-04, 1.9263e-04, 1.5796e-04, 1.2953e-04, 1.0621e-04, 8.7092e-05,\n",
            "        7.1415e-05, 5.8560e-05, 4.8019e-05])\n"
          ],
          "name": "stdout"
        },
        {
          "output_type": "stream",
          "text": [
            "/usr/local/lib/python3.6/dist-packages/ipykernel_launcher.py:1: UserWarning: To copy construct from a tensor, it is recommended to use sourceTensor.clone().detach() or sourceTensor.clone().detach().requires_grad_(True), rather than torch.tensor(sourceTensor).\n",
            "  \"\"\"Entry point for launching an IPython kernel.\n"
          ],
          "name": "stderr"
        }
      ]
    },
    {
      "cell_type": "code",
      "metadata": {
        "id": "w5SchjfQ3GoN",
        "colab_type": "code",
        "colab": {
          "base_uri": "https://localhost:8080/",
          "height": 232
        },
        "outputId": "e7804a47-160c-475a-f996-77f5020a432f"
      },
      "source": [
        "# Now we compute gradients\n",
        "x = torch.tensor(E, requires_grad=True)\n",
        "EofSquares = SumOfSquares(x)\n",
        "\n",
        "\n",
        "# Differentiate E, the gradient with respect to E is stored in E\n",
        "EofSquares.backward()\n",
        "grady = x.grad\n",
        "\n",
        "print(grady)"
      ],
      "execution_count": 51,
      "outputs": [
        {
          "output_type": "stream",
          "text": [
            "tensor([1.7000e-01, 1.4110e-01, 1.1678e-01, 9.6412e-02, 7.9439e-02, 6.5343e-02,\n",
            "        5.3673e-02, 4.4035e-02, 3.6092e-02, 2.9557e-02, 2.4188e-02, 1.9783e-02,\n",
            "        1.6172e-02, 1.3214e-02, 1.0793e-02, 8.8135e-03, 7.1949e-03, 5.8722e-03,\n",
            "        4.7918e-03, 3.9095e-03, 3.1892e-03, 2.6014e-03, 2.1216e-03, 1.7302e-03,\n",
            "        1.4109e-03, 1.1504e-03, 9.3797e-04, 7.6473e-04, 6.2345e-04, 5.0826e-04,\n",
            "        4.1433e-04, 3.3776e-04, 2.7533e-04, 2.2443e-04, 1.8294e-04, 1.4911e-04,\n",
            "        1.2154e-04, 9.9067e-05, 8.0748e-05, 6.5815e-05, 5.3643e-05, 4.3722e-05,\n",
            "        3.5635e-05, 2.9044e-05, 2.3672e-05, 1.9294e-05, 1.5725e-05, 1.2816e-05,\n",
            "        1.0446e-05, 8.5133e-06, 6.9385e-06])\n"
          ],
          "name": "stdout"
        },
        {
          "output_type": "stream",
          "text": [
            "/usr/local/lib/python3.6/dist-packages/ipykernel_launcher.py:1: UserWarning: To copy construct from a tensor, it is recommended to use sourceTensor.clone().detach() or sourceTensor.clone().detach().requires_grad_(True), rather than torch.tensor(sourceTensor).\n",
            "  \"\"\"Entry point for launching an IPython kernel.\n"
          ],
          "name": "stderr"
        }
      ]
    },
    {
      "cell_type": "code",
      "metadata": {
        "id": "S4GwQD4c3Xw4",
        "colab_type": "code",
        "colab": {
          "base_uri": "https://localhost:8080/",
          "height": 232
        },
        "outputId": "d874cc4b-1c59-4831-afbd-2d808ecfd921"
      },
      "source": [
        "# Now we compute gradients\n",
        "x = torch.tensor(I, requires_grad=True)\n",
        "IofSquares = SumOfSquares(x)\n",
        "\n",
        "\n",
        "# Differentiate I, the gradient with respect to I is stored in I\n",
        "IofSquares.backward()\n",
        "grady = x.grad\n",
        "\n",
        "print(grady)"
      ],
      "execution_count": 52,
      "outputs": [
        {
          "output_type": "stream",
          "text": [
            "tensor([3.6136e-05, 5.9821e-03, 1.0252e-02, 1.3194e-02, 1.5094e-02, 1.6187e-02,\n",
            "        1.6665e-02, 1.6682e-02, 1.6359e-02, 1.5794e-02, 1.5063e-02, 1.4227e-02,\n",
            "        1.3329e-02, 1.2406e-02, 1.1482e-02, 1.0576e-02, 9.7030e-03, 8.8705e-03,\n",
            "        8.0848e-03, 7.3490e-03, 6.6646e-03, 6.0314e-03, 5.4485e-03, 4.9139e-03,\n",
            "        4.4253e-03, 3.9802e-03, 3.5756e-03, 3.2089e-03, 2.8771e-03, 2.5774e-03,\n",
            "        2.3071e-03, 2.0638e-03, 1.8450e-03, 1.6485e-03, 1.4721e-03, 1.3140e-03,\n",
            "        1.1724e-03, 1.0456e-03, 9.3224e-04, 8.3089e-04, 7.4034e-04, 6.5948e-04,\n",
            "        5.8732e-04, 5.2293e-04, 4.6551e-04, 4.1432e-04, 3.6869e-04, 3.2804e-04,\n",
            "        2.9183e-04, 2.5959e-04, 2.3087e-04])\n"
          ],
          "name": "stdout"
        },
        {
          "output_type": "stream",
          "text": [
            "/usr/local/lib/python3.6/dist-packages/ipykernel_launcher.py:1: UserWarning: To copy construct from a tensor, it is recommended to use sourceTensor.clone().detach() or sourceTensor.clone().detach().requires_grad_(True), rather than torch.tensor(sourceTensor).\n",
            "  \"\"\"Entry point for launching an IPython kernel.\n"
          ],
          "name": "stderr"
        }
      ]
    }
  ]
}