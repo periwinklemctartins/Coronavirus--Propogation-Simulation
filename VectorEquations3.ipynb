{
  "nbformat": 4,
  "nbformat_minor": 0,
  "metadata": {
    "colab": {
      "name": "MeBestShot.ipynb",
      "provenance": [],
      "authorship_tag": "ABX9TyPeFvcSiLYy1U/QVsy43BCR",
      "include_colab_link": true
    },
    "kernelspec": {
      "name": "python3",
      "display_name": "Python 3"
    }
  },
  "cells": [
    {
      "cell_type": "markdown",
      "metadata": {
        "id": "view-in-github",
        "colab_type": "text"
      },
      "source": [
        "<a href=\"https://colab.research.google.com/github/periwinklemctartins/Coronavirus--Propogation-Simulation/blob/master/VectorEquations3.ipynb\" target=\"_parent\"><img src=\"https://colab.research.google.com/assets/colab-badge.svg\" alt=\"Open In Colab\"/></a>"
      ]
    },
    {
      "cell_type": "code",
      "metadata": {
        "id": "cXwzTGoYm4jx",
        "colab_type": "code",
        "outputId": "0bf4be62-65bc-42c0-d811-d23e1c367e33",
        "colab": {
          "base_uri": "https://localhost:8080/",
          "height": 34
        }
      },
      "source": [
        "a = torch.zeros(4, dtype = torch.int32)\n",
        "\n",
        "print(a)"
      ],
      "execution_count": 0,
      "outputs": [
        {
          "output_type": "stream",
          "text": [
            "tensor([0, 0, 0, 0], dtype=torch.int32)\n"
          ],
          "name": "stdout"
        }
      ]
    },
    {
      "cell_type": "code",
      "metadata": {
        "id": "Dogo51gW07gu",
        "colab_type": "code",
        "outputId": "951c908c-b96e-4acb-87a1-f12ace720003",
        "colab": {
          "base_uri": "https://localhost:8080/",
          "height": 34
        }
      },
      "source": [
        "a = torch.tensor([1,2])\n",
        "b = torch.tensor([1,2])\n",
        "\n",
        "c = a + b\n",
        "\n",
        "print(c)"
      ],
      "execution_count": 0,
      "outputs": [
        {
          "output_type": "stream",
          "text": [
            "tensor([2, 4])\n"
          ],
          "name": "stdout"
        }
      ]
    },
    {
      "cell_type": "code",
      "metadata": {
        "id": "FJCOR25J5a9L",
        "colab_type": "code",
        "colab": {}
      },
      "source": [
        "import pandas as pd\n",
        "import torch\n",
        "import matplotlib.pyplot as plt\n",
        "import matplotlib\n",
        "import numpy as np"
      ],
      "execution_count": 0,
      "outputs": []
    },
    {
      "cell_type": "markdown",
      "metadata": {
        "id": "foqoGpsLVnWe",
        "colab_type": "text"
      },
      "source": [
        "## Variable Initialization"
      ]
    },
    {
      "cell_type": "code",
      "metadata": {
        "id": "_OOy17WZil6A",
        "colab_type": "code",
        "colab": {
          "base_uri": "https://localhost:8080/",
          "height": 153
        },
        "outputId": "b275a91f-7fb3-40ec-f261-ef8a78db4e8e"
      },
      "source": [
        "provpop = torch.tensor([4413146, 5110917, 1377517, 779993, 521365, 44904, 977457, 39097, 14711827, 158158, 8537674, 1181666, 41078], dtype = float)\n",
        "\n",
        "L = torch.tensor([[6,    -1,    -1,     0,     0,     0,     0,     0,    -1,     0,    -1,    -1,    -1], \n",
        "                  [-1,    6,    -1,     0,     0,    -1,     0,     0,    -1,     0,    -1,    -1,     0],\n",
        "                  [-1,    1,     7,     0,     0,    -1,     0,    -1,    -1,     0,    -1,    -1,     0],\n",
        "                  [0,     0,     0,     4,    -1,     0,     0,     0,    -1,    -1,    -1,     0,     0],\n",
        "                  [0,     0,     0,    -1,     5,     0,    -1,     0,    -1,    -1,    -1,     0,     0],\n",
        "                  [0,    -1,    -1,     0,     0,     7,     0,    -1,    -1,     0,    -1,    -1,    -1],\n",
        "                  [0,     0,     0,     0,    -1,     0,     4,     0,    -1,    -1,    -1,     0,     0],\n",
        "                  [0,     0,    -1,     0,     0,    -1,     0,     6,    -1,     0,    -1,    -1,    -1],\n",
        "                  [-1,    -1,    -1,    -1,    -1,    -1,    -1,    -1,    12,    -1,    -1,    -1,   -1],\n",
        "                  [0,     0,     0,    -1,    -1,     0,    -1,     0,    -1,     5,    -1,     0,     0],\n",
        "                  [-1,    -1,    -1,    -1,    -1,    -1,    -1,    -1,    -1,    -1,    12,    -1,   -1],\n",
        "                  [-1,    -1,    -1,     0,     0,    -1,     0,    -1,    -1,     0,    -1,     7,    0],\n",
        "                  [-1,     0,     0,     0,     0,    -1,     0,    -1,    -1,     0,    -1,     0,    5]], dtype = float);\n",
        "\n",
        "S =  torch.zeros(13, dtype = torch.float)\n",
        "E =  torch.zeros(13, dtype = torch.float)\n",
        "I =  torch.zeros(13, dtype = torch.float)\n",
        "S0 = torch.zeros(13, dtype = torch.float)\n",
        "E0 = torch.zeros(13, dtype = torch.float)\n",
        "I0 = torch.zeros(13, dtype = torch.float)\n",
        "\n",
        "FE = 0.01     # Fraction of population that is initially exposed\n",
        "\n",
        "S = provpop*(1 - FE)        # Initializes Susceptible\n",
        "E = provpop*(1 - FE)        # Initializes Exposed\n",
        "I = provpop - provpop       # I know this last one looks fucking stupid but it's the only way I get this program to work without shitting itself\n",
        "\n",
        "dt = 0.05; nt = 4000\n",
        "\n",
        "alpha = 0.2\n",
        "beta  = 0.5\n",
        "gamma = 0.01\n",
        "mu    = 0.075\n",
        "kE    = 0.0005\n",
        "kS    = 0.0005\n",
        "kI    = 0\n",
        "theta = torch.tensor([alpha, beta, gamma, mu, kE, kS, kI])\n",
        "\n",
        "P = ['AB', 'BC', 'MB', 'NB', 'NL', 'NT', 'NS', 'NU', 'ON', 'PE', 'QC', 'SK', 'YT']\n",
        "\n",
        "print(S,E,I*p)\n",
        "\n",
        "Sout = torch.zeros(13,nt+1, dtype = float)\n",
        "Eout = torch.zeros(13,nt+1, dtype = float)\n",
        "Iout = torch.zeros(13,nt+1, dtype = float)"
      ],
      "execution_count": 140,
      "outputs": [
        {
          "output_type": "stream",
          "text": [
            "tensor([ 4369014.5400,  5059807.8300,  1363741.8300,   772193.0700,\n",
            "          516151.3500,    44454.9600,   967682.4300,    38706.0300,\n",
            "        14564708.7300,   156576.4200,  8452297.2600,  1169849.3400,\n",
            "           40667.2200], dtype=torch.float64) tensor([ 4369014.5400,  5059807.8300,  1363741.8300,   772193.0700,\n",
            "          516151.3500,    44454.9600,   967682.4300,    38706.0300,\n",
            "        14564708.7300,   156576.4200,  8452297.2600,  1169849.3400,\n",
            "           40667.2200], dtype=torch.float64) tensor([0., 0., 0., 0., 0., 0., 0., 0., 0., 0., 0., 0., 0.],\n",
            "       dtype=torch.float64)\n"
          ],
          "name": "stdout"
        }
      ]
    },
    {
      "cell_type": "markdown",
      "metadata": {
        "id": "nwv55XoN3xAa",
        "colab_type": "text"
      },
      "source": [
        "## Main Function"
      ]
    },
    {
      "cell_type": "code",
      "metadata": {
        "id": "ID3dmB_oDI0q",
        "colab_type": "code",
        "outputId": "b80fecba-0fff-4cf5-a2da-91bc249c8c27",
        "colab": {
          "base_uri": "https://localhost:8080/",
          "height": 375
        }
      },
      "source": [
        "Sout, Eout, Iout = integrateSEI(theta,S0,E0,I0,dt,nt,p)\n",
        "\n",
        "S = torch.zeros(nt+1, dtype = float) \n",
        "E = torch.zeros(nt+1, dtype = float)\n",
        "I = torch.zeros(nt+1, dtype = float)\n",
        "\n",
        "for n in range(13):\n",
        "  for i in range(nt+1):\n",
        "    S[i] = Sout[n,i]; E[i] = Eout[n,i]; I[i] = Iout[n,i]\n",
        "  \n",
        "  t = np.arange(nt+1)*dt\n",
        "  title = 'maximum of infected people %', P[n], # torch.max(I).item()\n",
        "  plt.figure(n)\n",
        "  plt.title(title)\n",
        "  plt.plot(t,S,t,E,t,I)"
      ],
      "execution_count": 142,
      "outputs": [
        {
          "output_type": "error",
          "ename": "RuntimeError",
          "evalue": "ignored",
          "traceback": [
            "\u001b[0;31m---------------------------------------------------------------------------\u001b[0m",
            "\u001b[0;31mRuntimeError\u001b[0m                              Traceback (most recent call last)",
            "\u001b[0;32m<ipython-input-142-4e043e3713ef>\u001b[0m in \u001b[0;36m<module>\u001b[0;34m()\u001b[0m\n\u001b[0;32m----> 1\u001b[0;31m \u001b[0mSout\u001b[0m\u001b[0;34m,\u001b[0m \u001b[0mEout\u001b[0m\u001b[0;34m,\u001b[0m \u001b[0mIout\u001b[0m \u001b[0;34m=\u001b[0m \u001b[0mintegrateSEI\u001b[0m\u001b[0;34m(\u001b[0m\u001b[0mtheta\u001b[0m\u001b[0;34m,\u001b[0m\u001b[0mS0\u001b[0m\u001b[0;34m,\u001b[0m\u001b[0mE0\u001b[0m\u001b[0;34m,\u001b[0m\u001b[0mI0\u001b[0m\u001b[0;34m,\u001b[0m\u001b[0mdt\u001b[0m\u001b[0;34m,\u001b[0m\u001b[0mnt\u001b[0m\u001b[0;34m,\u001b[0m\u001b[0mp\u001b[0m\u001b[0;34m)\u001b[0m\u001b[0;34m\u001b[0m\u001b[0;34m\u001b[0m\u001b[0m\n\u001b[0m\u001b[1;32m      2\u001b[0m \u001b[0;34m\u001b[0m\u001b[0m\n\u001b[1;32m      3\u001b[0m \u001b[0mS\u001b[0m \u001b[0;34m=\u001b[0m \u001b[0mtorch\u001b[0m\u001b[0;34m.\u001b[0m\u001b[0mzeros\u001b[0m\u001b[0;34m(\u001b[0m\u001b[0mnt\u001b[0m\u001b[0;34m+\u001b[0m\u001b[0;36m1\u001b[0m\u001b[0;34m,\u001b[0m \u001b[0mdtype\u001b[0m \u001b[0;34m=\u001b[0m \u001b[0mfloat\u001b[0m\u001b[0;34m)\u001b[0m\u001b[0;34m\u001b[0m\u001b[0;34m\u001b[0m\u001b[0m\n\u001b[1;32m      4\u001b[0m \u001b[0mE\u001b[0m \u001b[0;34m=\u001b[0m \u001b[0mtorch\u001b[0m\u001b[0;34m.\u001b[0m\u001b[0mzeros\u001b[0m\u001b[0;34m(\u001b[0m\u001b[0mnt\u001b[0m\u001b[0;34m+\u001b[0m\u001b[0;36m1\u001b[0m\u001b[0;34m,\u001b[0m \u001b[0mdtype\u001b[0m \u001b[0;34m=\u001b[0m \u001b[0mfloat\u001b[0m\u001b[0;34m)\u001b[0m\u001b[0;34m\u001b[0m\u001b[0;34m\u001b[0m\u001b[0m\n\u001b[1;32m      5\u001b[0m \u001b[0mI\u001b[0m \u001b[0;34m=\u001b[0m \u001b[0mtorch\u001b[0m\u001b[0;34m.\u001b[0m\u001b[0mzeros\u001b[0m\u001b[0;34m(\u001b[0m\u001b[0mnt\u001b[0m\u001b[0;34m+\u001b[0m\u001b[0;36m1\u001b[0m\u001b[0;34m,\u001b[0m \u001b[0mdtype\u001b[0m \u001b[0;34m=\u001b[0m \u001b[0mfloat\u001b[0m\u001b[0;34m)\u001b[0m\u001b[0;34m\u001b[0m\u001b[0;34m\u001b[0m\u001b[0m\n",
            "\u001b[0;32m<ipython-input-138-1b6ca7ebca78>\u001b[0m in \u001b[0;36mintegrateSEI\u001b[0;34m(theta, S0, E0, I0, dt, nt, p)\u001b[0m\n\u001b[1;32m     17\u001b[0m     \u001b[0;32mfor\u001b[0m \u001b[0mi\u001b[0m \u001b[0;32min\u001b[0m \u001b[0mrange\u001b[0m\u001b[0;34m(\u001b[0m\u001b[0mnt\u001b[0m\u001b[0;34m)\u001b[0m\u001b[0;34m:\u001b[0m\u001b[0;34m\u001b[0m\u001b[0;34m\u001b[0m\u001b[0m\n\u001b[1;32m     18\u001b[0m \u001b[0;34m\u001b[0m\u001b[0m\n\u001b[0;32m---> 19\u001b[0;31m         \u001b[0mdSdt\u001b[0m\u001b[0;34m,\u001b[0m \u001b[0mdEdt\u001b[0m\u001b[0;34m,\u001b[0m \u001b[0mdIdt\u001b[0m \u001b[0;34m=\u001b[0m \u001b[0mSEImodel\u001b[0m\u001b[0;34m(\u001b[0m\u001b[0mtheta\u001b[0m\u001b[0;34m,\u001b[0m\u001b[0mS\u001b[0m\u001b[0;34m,\u001b[0m\u001b[0mE\u001b[0m\u001b[0;34m,\u001b[0m\u001b[0mI\u001b[0m\u001b[0;34m,\u001b[0m\u001b[0mp\u001b[0m\u001b[0;34m)\u001b[0m\u001b[0;34m\u001b[0m\u001b[0;34m\u001b[0m\u001b[0m\n\u001b[0m\u001b[1;32m     20\u001b[0m         \u001b[0mS\u001b[0m \u001b[0;34m+=\u001b[0m \u001b[0mdt\u001b[0m\u001b[0;34m*\u001b[0m\u001b[0mdSdt\u001b[0m\u001b[0;34m\u001b[0m\u001b[0;34m\u001b[0m\u001b[0m\n\u001b[1;32m     21\u001b[0m         \u001b[0mE\u001b[0m \u001b[0;34m+=\u001b[0m \u001b[0mdt\u001b[0m\u001b[0;34m*\u001b[0m\u001b[0mdEdt\u001b[0m\u001b[0;34m\u001b[0m\u001b[0;34m\u001b[0m\u001b[0m\n",
            "\u001b[0;32m<ipython-input-135-f2691c7b6227>\u001b[0m in \u001b[0;36mSEImodel\u001b[0;34m(theta, S, E, I, p)\u001b[0m\n\u001b[1;32m      8\u001b[0m \u001b[0;34m\u001b[0m\u001b[0m\n\u001b[1;32m      9\u001b[0m     \u001b[0;31m#Method 1\u001b[0m\u001b[0;34m\u001b[0m\u001b[0;34m\u001b[0m\u001b[0;34m\u001b[0m\u001b[0m\n\u001b[0;32m---> 10\u001b[0;31m     \u001b[0mdSdt\u001b[0m \u001b[0;34m=\u001b[0m \u001b[0;34m(\u001b[0m\u001b[0;34m-\u001b[0m\u001b[0mkS\u001b[0m\u001b[0;34m*\u001b[0m\u001b[0mtorch\u001b[0m\u001b[0;34m.\u001b[0m\u001b[0mmv\u001b[0m\u001b[0;34m(\u001b[0m\u001b[0mL\u001b[0m\u001b[0;34m,\u001b[0m\u001b[0mS\u001b[0m\u001b[0;34m*\u001b[0m\u001b[0mp\u001b[0m\u001b[0;34m)\u001b[0m\u001b[0;34m)\u001b[0m\u001b[0;34m/\u001b[0m\u001b[0mp\u001b[0m \u001b[0;34m-\u001b[0m \u001b[0mbeta\u001b[0m\u001b[0;34m*\u001b[0m\u001b[0;34m(\u001b[0m\u001b[0;34m(\u001b[0m\u001b[0mE\u001b[0m\u001b[0;34m/\u001b[0m\u001b[0mp\u001b[0m\u001b[0;34m)\u001b[0m\u001b[0;34m*\u001b[0m\u001b[0;34m(\u001b[0m\u001b[0mS\u001b[0m\u001b[0;34m/\u001b[0m\u001b[0mp\u001b[0m\u001b[0;34m)\u001b[0m\u001b[0;34m)\u001b[0m \u001b[0;34m-\u001b[0m \u001b[0mgamma\u001b[0m\u001b[0;34m*\u001b[0m\u001b[0;34m(\u001b[0m\u001b[0;34m(\u001b[0m\u001b[0mI\u001b[0m\u001b[0;34m/\u001b[0m\u001b[0mp\u001b[0m\u001b[0;34m)\u001b[0m\u001b[0;34m*\u001b[0m\u001b[0;34m(\u001b[0m\u001b[0mS\u001b[0m\u001b[0;34m/\u001b[0m\u001b[0mp\u001b[0m\u001b[0;34m)\u001b[0m\u001b[0;34m)\u001b[0m\u001b[0;34m\u001b[0m\u001b[0;34m\u001b[0m\u001b[0m\n\u001b[0m\u001b[1;32m     11\u001b[0m     \u001b[0mdEdt\u001b[0m \u001b[0;34m=\u001b[0m \u001b[0;34m(\u001b[0m\u001b[0;34m-\u001b[0m\u001b[0mkE\u001b[0m\u001b[0;34m*\u001b[0m\u001b[0mtorch\u001b[0m\u001b[0;34m.\u001b[0m\u001b[0mmv\u001b[0m\u001b[0;34m(\u001b[0m\u001b[0mL\u001b[0m\u001b[0;34m,\u001b[0m\u001b[0mE\u001b[0m\u001b[0;34m*\u001b[0m\u001b[0mp\u001b[0m\u001b[0;34m)\u001b[0m\u001b[0;34m)\u001b[0m\u001b[0;34m/\u001b[0m\u001b[0mp\u001b[0m \u001b[0;34m+\u001b[0m \u001b[0mbeta\u001b[0m\u001b[0;34m*\u001b[0m\u001b[0;34m(\u001b[0m\u001b[0mE\u001b[0m\u001b[0;34m*\u001b[0m\u001b[0mS\u001b[0m\u001b[0;34m)\u001b[0m \u001b[0;34m+\u001b[0m \u001b[0mgamma\u001b[0m\u001b[0;34m*\u001b[0m\u001b[0;34m(\u001b[0m\u001b[0mI\u001b[0m\u001b[0;34m*\u001b[0m\u001b[0mS\u001b[0m\u001b[0;34m)\u001b[0m \u001b[0;34m-\u001b[0m \u001b[0malpha\u001b[0m\u001b[0;34m*\u001b[0m\u001b[0mE\u001b[0m\u001b[0;34m\u001b[0m\u001b[0;34m\u001b[0m\u001b[0m\n\u001b[1;32m     12\u001b[0m     \u001b[0mdIdt\u001b[0m \u001b[0;34m=\u001b[0m \u001b[0;34m(\u001b[0m\u001b[0;34m-\u001b[0m\u001b[0mkI\u001b[0m\u001b[0;34m*\u001b[0m\u001b[0mtorch\u001b[0m\u001b[0;34m.\u001b[0m\u001b[0mmv\u001b[0m\u001b[0;34m(\u001b[0m\u001b[0mL\u001b[0m\u001b[0;34m,\u001b[0m\u001b[0mI\u001b[0m\u001b[0;34m*\u001b[0m\u001b[0mp\u001b[0m\u001b[0;34m)\u001b[0m\u001b[0;34m)\u001b[0m\u001b[0;34m/\u001b[0m\u001b[0mp\u001b[0m \u001b[0;34m+\u001b[0m \u001b[0malpha\u001b[0m\u001b[0;34m*\u001b[0m\u001b[0mE\u001b[0m \u001b[0;34m-\u001b[0m \u001b[0mmu\u001b[0m\u001b[0;34m*\u001b[0m\u001b[0mI\u001b[0m\u001b[0;34m\u001b[0m\u001b[0;34m\u001b[0m\u001b[0m\n",
            "\u001b[0;31mRuntimeError\u001b[0m: Expected object of scalar type Double but got scalar type Float for argument #3 'vec' in call to _th_addmv_out"
          ]
        }
      ]
    },
    {
      "cell_type": "code",
      "metadata": {
        "id": "-u73BKd655s7",
        "colab_type": "code",
        "colab": {}
      },
      "source": [
        "# the numbers it spits out are fractions of the population not total # of people\n",
        "def SEImodel(theta,S,E,I,p):\n",
        "    \n",
        "    dSdt = torch.zeros(13, dtype = float)\n",
        "    dEdt = torch.zeros(13, dtype = float)\n",
        "    dIdt = torch.zeros(13, dtype = float)\n",
        "\n",
        "    alpha = theta[0]; beta  = theta[1]; gamma = theta[2]; mu    = theta[3]; kE    = theta[4]; kS    = theta[5]; kI    = theta[6]\n",
        "\n",
        "    #Method 1\n",
        "    dSdt = (-kS*torch.mv(L,S*p))/p - beta*((E/p)*(S/p)) - gamma*((I/p)*(S/p))               \n",
        "    dEdt = (-kE*torch.mv(L,E*p))/p + beta*(E*S) + gamma*(I*S) - alpha*E     \n",
        "    dIdt = (-kI*torch.mv(L,I*p))/p + alpha*E - mu*I                      \n",
        "\n",
        "    #Method 2\n",
        "    #dSdt  = -kS*torch.mv(L,S*p) - beta*(E*S) - gamma*(I*S)                # dS/dt\n",
        "    #dEdt  = -kE*torch.mv(L,E*p) + beta*(E*S) + gamma*(I*S) - alpha*E      # dE/dt\n",
        "    #dIdt  = -kI*torch.mv(L,I*p) + alpha*E - mu*I                       # dI/dt\n",
        "    \n",
        "    return dSdt, dEdt, dIdt,"
      ],
      "execution_count": 0,
      "outputs": []
    },
    {
      "cell_type": "code",
      "metadata": {
        "id": "8ocOqOTkDIml",
        "colab_type": "code",
        "colab": {}
      },
      "source": [
        "def integrateSEI(theta,S0,E0,I0,dt,nt,p):\n",
        "    \n",
        "    # tensors to save the results over time\n",
        "    Sout = torch.zeros(13,nt+1, dtype = float)\n",
        "    Eout = torch.zeros(13,nt+1, dtype = float)\n",
        "    Iout = torch.zeros(13,nt+1, dtype = float)\n",
        "    dSdt = torch.zeros(13, dtype = float)\n",
        "    dEdt = torch.zeros(13, dtype = float)\n",
        "    dIdt = torch.zeros(13, dtype = float)\n",
        "    \n",
        "    for i in range(13):\n",
        "        Sout[i,0] = S0[i]\n",
        "        Eout[i,0] = E0[i]\n",
        "        Iout[i,0] = E0[i]\n",
        "    \n",
        "    S = S0; E = E0; I = I0\n",
        "    for i in range(nt):\n",
        "        \n",
        "        dSdt, dEdt, dIdt = SEImodel(theta,S,E,I,p)\n",
        "        S += dt*dSdt\n",
        "        E += dt*dEdt\n",
        "        I += dt*dIdt\n",
        "        \n",
        "        for n in range(13):\n",
        "            Sout[n,i+1] = S[n]; Eout[n,i+1] = E[n]; Iout[n,i+1] = I[n]\n",
        "        \n",
        "    return Sout, Eout, Iout"
      ],
      "execution_count": 0,
      "outputs": []
    },
    {
      "cell_type": "markdown",
      "metadata": {
        "id": "rklFrP-11DaO",
        "colab_type": "text"
      },
      "source": [
        "# TEST MAIN"
      ]
    },
    {
      "cell_type": "code",
      "metadata": {
        "id": "qJkdjJe51_l1",
        "colab_type": "code",
        "colab": {}
      },
      "source": [
        ""
      ],
      "execution_count": 0,
      "outputs": []
    },
    {
      "cell_type": "code",
      "metadata": {
        "id": "OmQiBIGY1SY2",
        "colab_type": "code",
        "colab": {
          "base_uri": "https://localhost:8080/",
          "height": 119
        },
        "outputId": "70f0139b-244b-4ffb-9870-957b8804d4e1"
      },
      "source": [
        "a,b,c = SEImodel(theta,S,E,I,p)\n",
        "\n",
        "print(a,b,c)"
      ],
      "execution_count": 132,
      "outputs": [
        {
          "output_type": "stream",
          "text": [
            "tensor([-0.4900, -0.4900, -0.4901, -0.4900, -0.4900, -0.4900, -0.4900, -0.4900,\n",
            "        -0.4900, -0.4901, -0.4900, -0.4901, -0.4900], dtype=torch.float64) tensor([9.5441e+12, 1.2801e+13, 9.2990e+11, 2.9814e+11, 1.3321e+11, 9.9163e+08,\n",
            "        4.6820e+11, 7.5278e+08, 1.0607e+14, 1.2259e+10, 3.5721e+13, 6.8427e+11,\n",
            "        8.3062e+08], dtype=torch.float64) tensor([ 873802.9210, 1011961.5811,  272748.3701,  154438.6163,  103230.2715,\n",
            "           8890.9921,  193536.4889,    7741.2061, 2912941.7894,   31315.2845,\n",
            "        1690459.4772,  233969.8715,    8133.4441], dtype=torch.float64)\n"
          ],
          "name": "stdout"
        }
      ]
    },
    {
      "cell_type": "markdown",
      "metadata": {
        "id": "JUqqF83D16Pu",
        "colab_type": "text"
      },
      "source": [
        "# JUNK"
      ]
    },
    {
      "cell_type": "code",
      "metadata": {
        "id": "pexg5m4_eMLe",
        "colab_type": "code",
        "colab": {
          "base_uri": "https://localhost:8080/",
          "height": 51
        },
        "outputId": "9aaed67b-0a01-47b5-9f57-514b6f980721"
      },
      "source": [
        "provpop = torch.tensor([4413146, 5110917, 1377517, 779993, 521365, 44904, 977457, 39097, 14711827, 158158, 8537674, 1181666, 41078])\n",
        "\n",
        "S = torch.zeros(13, dtype = float)\n",
        "E = torch.zeros(13, dtype = float)\n",
        "I = torch.zeros(13, dtype = float)\n",
        "\n",
        "FE = 0.01     # Fraction of population that is initially exposed\n",
        "\n",
        "# Initializes Susceptible\n",
        "for i in range(13):\n",
        "  S[i] = 1 - FE\n",
        "  E[i] = FE\n",
        "\n",
        "alpha = 0.6\n",
        "beta  = 0.2\n",
        "gamma = 0.1\n",
        "mu    = 0.021\n",
        "kE    = 0.0\n",
        "kS    = 0\n",
        "kI    = 0\n",
        "theta = torch.tensor([alpha, beta, gamma, mu, kE, kS, kI])\n",
        "\n",
        "# dSdt, dEdt, dIdt = SEImodel(theta,S,E,I,p)\n",
        "\n",
        "print(S)"
      ],
      "execution_count": 97,
      "outputs": [
        {
          "output_type": "stream",
          "text": [
            "tensor([0.9900, 0.9900, 0.9900, 0.9900, 0.9900, 0.9900, 0.9900, 0.9900, 0.9900,\n",
            "        0.9900, 0.9900, 0.9900, 0.9900], dtype=torch.float64)\n"
          ],
          "name": "stdout"
        }
      ]
    },
    {
      "cell_type": "code",
      "metadata": {
        "id": "R_aS3Lb7WJXV",
        "colab_type": "code",
        "colab": {}
      },
      "source": [
        "# tensors to save the results over time\n",
        "    Sout = torch.zeros(13,nt+1, dtype = torch.float)\n",
        "    Eout = torch.zeros(13,nt+1, dtype = torch.float)\n",
        "    Iout = torch.zeros(13,nt+1, dtype = torch.float)\n",
        "    S = torch.zeros(13, dtype = torch.float)\n",
        "    E = torch.zeros(13, dtype = torch.float)\n",
        "    I = torch.zeros(13, dtype = torch.float)\n",
        "    \n",
        "    for i in range(13):\n",
        "        Sout[i,0] = S0[i]\n",
        "        Eout[i,0] = E0[i]\n",
        "        Iout[i,0] = E0[i]\n",
        "\n",
        "        S[i] = S0[i]; E[i] = E0[i]; I[i] = I0[i]\n",
        "    \n",
        "    S = S0[i]; E = E0[i]; I = I0[i]\n",
        "    for i in range(nt):\n",
        "        \n",
        "        dSdt, dEdt, dIdt = SEImodel(theta,S,E,I)\n",
        "        S += dt*dSdt\n",
        "        E += dt*dEdt\n",
        "        I += dt*dIdt\n",
        "        \n",
        "        for n in range(13):\n",
        "            Sout[n,i+1] = S[n]; Eout[n,i+1] = E[n]; Iout[n,i+1] = I[n]"
      ],
      "execution_count": 0,
      "outputs": []
    },
    {
      "cell_type": "code",
      "metadata": {
        "id": "66FOwn27ksJZ",
        "colab_type": "code",
        "colab": {
          "base_uri": "https://localhost:8080/",
          "height": 85
        },
        "outputId": "0e5ae587-4df1-44ba-97cf-1293108d493e"
      },
      "source": [
        "dSdt, dEdt, dIdt = SEImodel(theta,S,E,I,p)\n",
        "\n",
        "print(dSdt, dEdt, dIdt)"
      ],
      "execution_count": 99,
      "outputs": [
        {
          "output_type": "stream",
          "text": [
            "tensor([-0.0020, -0.0020, -0.0020, -0.0020, -0.0020, -0.0020, -0.0020, -0.0020,\n",
            "        -0.0020, -0.0020, -0.0020, -0.0020, -0.0020], dtype=torch.float64) tensor([-0.0040, -0.0040, -0.0040, -0.0040, -0.0040, -0.0040, -0.0040, -0.0040,\n",
            "        -0.0040, -0.0040, -0.0040, -0.0040, -0.0040], dtype=torch.float64) tensor([0.0060, 0.0060, 0.0060, 0.0060, 0.0060, 0.0060, 0.0060, 0.0060, 0.0060,\n",
            "        0.0060, 0.0060, 0.0060, 0.0060], dtype=torch.float64)\n"
          ],
          "name": "stdout"
        }
      ]
    },
    {
      "cell_type": "code",
      "metadata": {
        "id": "9McIrIM32UKM",
        "colab_type": "code",
        "colab": {}
      },
      "source": [
        "# province = [abrev, population, # of initial infections, time between first case in Canada and first case in province]\n",
        "\n",
        "AB = ['AB', 4413146, 1, 37]\n",
        "BC = ['BC', 5110917, 1, 0]\n",
        "MB = ['MB', 1377517, 1, 42]\n",
        "NB = ['NB', 779993, 1, 42]\n",
        "NL = ['NL', 521365, 1, 48]\n",
        "NT = ['NT', 44904, 1, 50]\n",
        "NS = ['NS', 977457, 1, 47]\n",
        "NU = ['NU', 39097, 0, 0]\n",
        "ON = ['ON', 14711827, 3, 0]\n",
        "PE = ['PE', 158158, 1, 44]\n",
        "QC = ['QC', 8537674, 1, 30]\n",
        "SK = ['SK', 1181666, 1, 45]\n",
        "YT = ['YT', 41078, 2, 52]\n",
        "\n",
        "Provinces = [ AB, BC, MB, NB, NL, NT, NS, NU, ON, PE, QC, SK, YT ]"
      ],
      "execution_count": 0,
      "outputs": []
    }
  ]
}