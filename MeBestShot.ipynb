{
  "nbformat": 4,
  "nbformat_minor": 0,
  "metadata": {
    "colab": {
      "name": "MeBestShot.ipynb",
      "provenance": [],
      "authorship_tag": "ABX9TyMqFN7vzntHzHNkTY5imnvZ",
      "include_colab_link": true
    },
    "kernelspec": {
      "name": "python3",
      "display_name": "Python 3"
    }
  },
  "cells": [
    {
      "cell_type": "markdown",
      "metadata": {
        "id": "view-in-github",
        "colab_type": "text"
      },
      "source": [
        "<a href=\"https://colab.research.google.com/github/periwinklemctartins/Coronavirus--Propogation-Simulation/blob/master/MeBestShot.ipynb\" target=\"_parent\"><img src=\"https://colab.research.google.com/assets/colab-badge.svg\" alt=\"Open In Colab\"/></a>"
      ]
    },
    {
      "cell_type": "code",
      "metadata": {
        "id": "FJCOR25J5a9L",
        "colab_type": "code",
        "colab": {}
      },
      "source": [
        "import pandas as pd\n",
        "import torch\n",
        "import matplotlib.pyplot as plt\n",
        "import matplotlib\n",
        "import numpy as np"
      ],
      "execution_count": 0,
      "outputs": []
    },
    {
      "cell_type": "code",
      "metadata": {
        "id": "_OOy17WZil6A",
        "colab_type": "code",
        "colab": {}
      },
      "source": [
        "# province = [abrev, population, # of initial infections, time between first case in Canada and first case in province]\n",
        "\n",
        "AB = ['AB', 4413146, 1, 37]\n",
        "BC = ['BC', 5110917, 1, 0]\n",
        "MB = ['MB', 1377517, 1, 42]\n",
        "NB = ['NB', 779993, 1, 42]\n",
        "NL = ['NL', 521365, 1, 48]\n",
        "NT = ['NT', 44904, 1, 50]\n",
        "NS = ['NS', 977457, 1, 47]\n",
        "NU = ['NU', 39097, 0, 0]\n",
        "ON = ['ON', 14711827, 3, 0]\n",
        "PE = ['PE', 158158, 1, 44]\n",
        "QC = ['QC', 8537674, 1, 30]\n",
        "SK = ['SK', 1181666, 1, 45]\n",
        "YT = ['YT', 41078, 2, 52]\n",
        "\n",
        "Provinces = [ AB, BC, MB, NB, NL, NT, NS, NU, ON, PE, QC, SK, YT ]\n",
        "\n",
        "# You can access any of the parameters concerning the provinces using this \n",
        "for n in range(13):\n",
        "    temp = Province[n]\n",
        "    print(temp[1])\n",
        "\n",
        "\n"
      ],
      "execution_count": 0,
      "outputs": []
    },
    {
      "cell_type": "code",
      "metadata": {
        "id": "6HhLt0z7gyFk",
        "colab_type": "code",
        "colab": {}
      },
      "source": [
        ""
      ],
      "execution_count": 0,
      "outputs": []
    },
    {
      "cell_type": "markdown",
      "metadata": {
        "id": "foqoGpsLVnWe",
        "colab_type": "text"
      },
      "source": [
        "## Variable Initialization"
      ]
    },
    {
      "cell_type": "code",
      "metadata": {
        "id": "Oa3c5ZRflvyb",
        "colab_type": "code",
        "outputId": "a4e48584-c390-414d-b327-44bb9121de5c",
        "colab": {
          "base_uri": "https://localhost:8080/",
          "height": 34
        }
      },
      "source": [
        "S = [0]*13\n",
        "E = [0]*13\n",
        "I = [0]*13\n",
        "S0 = [0]*13\n",
        "E0 = [0]*13\n",
        "I0 = [0]*13\n",
        "\n",
        "FE = 0.01     # Fraction of population that is initially exposed\n",
        "\n",
        "# Initializes Susceptible\n",
        "for n in range(13):\n",
        "    Province = Provinces[n]\n",
        "    \n",
        "    # Initializes Susceptible\n",
        "    S[n] = Province[1]*(1 - FE)\n",
        "\n",
        "    # Initializes Exposed\n",
        "    E[n] = Province[1]*FE\n",
        "\n",
        "    S0[n] = S[n]\n",
        "    E0[n] = E[n]"
      ],
      "execution_count": 7,
      "outputs": [
        {
          "output_type": "stream",
          "text": [
            "[4413146, 5110917, 1377517, 779993, 521365, 44904, 977457, 39097, 14711827, 158158, 8537674, 1181666, 41078]\n"
          ],
          "name": "stdout"
        }
      ]
    },
    {
      "cell_type": "code",
      "metadata": {
        "id": "ID3dmB_oDI0q",
        "colab_type": "code",
        "outputId": "19cb97fe-30b1-4bfb-bc62-ae8a9acd5e1a",
        "colab": {
          "base_uri": "https://localhost:8080/",
          "height": 282
        }
      },
      "source": [
        "\n",
        "dt = 0.05; nt = 4000\n",
        "\n",
        "alpha = 0.2\n",
        "beta  = 0.5\n",
        "gamma = 0.01\n",
        "mu    = 0.075\n",
        "theta = torch.tensor([alpha, beta, gamma, mu])\n",
        "\n",
        "\n",
        "for n in range(13):\n",
        "\n",
        "  S, E, I = integrateSEI(theta,S0,E0,I0,dt,nt)\n",
        "\n",
        "  t = np.arange(nt+1)*dt\n",
        "  title = 'maximum of infected people %', P[n], torch.max(I).item()\n",
        "  plt.figure(n)\n",
        "  plt.title(title)\n",
        "  plt.plot(t,S,t,E,t,I)\n",
        "t = np.arange(nt+1)*dt\n",
        "plt.plot(t,S,t,E,t,I)\n",
        "\n",
        "print('maximum of infected people ', torch.max(I).item())"
      ],
      "execution_count": 0,
      "outputs": [
        {
          "output_type": "stream",
          "text": [
            "maximum of infected people  0.382425457239151\n"
          ],
          "name": "stdout"
        },
        {
          "output_type": "display_data",
          "data": {
            "image/png": "[encoded data removed]",
            "text/plain": [
              "<Figure size 432x288 with 1 Axes>"
            ]
          },
          "metadata": {
            "tags": [],
            "needs_background": "light"
          }
        }
      ]
    },
    {
      "cell_type": "code",
      "metadata": {
        "id": "-u73BKd655s7",
        "colab_type": "code",
        "colab": {}
      },
      "source": [
        "# First define the right hand side, we store all the parameters\n",
        "# in a single vector theta = [alpha, beta, gamma, mu]\n",
        "def SEImodel(theta,S,E,I,Provinces):\n",
        "    \n",
        "    alpha = theta[0]\n",
        "    beta  = theta[1]\n",
        "    gamma = theta[2]\n",
        "    mu    = theta[3]\n",
        "    kE    = theta[4]\n",
        "    kS    = theta[5]\n",
        "    kI    = theta[6]\n",
        "\n",
        "    for n in range (13):\n",
        "       dSdt  = kS*torch.S[n] - beta*E[n]*S[n] - gamma*I[n]*S[n]                # dS/dt\n",
        "       dEdt  = kE*L[n,n]*E[n] + beta*E*S  + gamma*I*S - alpha*E      # dE/dt\n",
        "       dIdt  = kI*L[n,n]*I + alpha*E - mu*I                       # dI/dt\n",
        "\n",
        "    \n",
        "    if ()\n",
        "\n",
        "    if (DebugSEI = 1):\n",
        "        print()\n",
        "    \n",
        "    return dSdt, dEdt, dIdt"
      ],
      "execution_count": 0,
      "outputs": []
    },
    {
      "cell_type": "code",
      "metadata": {
        "id": "WaR3a19KgRTh",
        "colab_type": "code",
        "colab": {}
      },
      "source": [
        "def ProvincebyProvince"
      ],
      "execution_count": 0,
      "outputs": []
    },
    {
      "cell_type": "code",
      "metadata": {
        "id": "8ocOqOTkDIml",
        "colab_type": "code",
        "colab": {}
      },
      "source": [
        "def integrateSEI(theta,S0,E0,I0,dt,nt):\n",
        "    \n",
        "    # vectors to save the results over time\n",
        "    \n",
        "    \n",
        "    \n",
        "    for n in range(13):\n",
        "      Sout = \n",
        "    \n",
        "    Sout = torch.zeros(nt+1); Sout[0] = S0\n",
        "    Eout = torch.zeros(nt+1); Eout[0] = E0\n",
        "    Iout = torch.zeros(nt+1); Iout[0] = I0\n",
        "    \n",
        "    S = S0; E = E0; I = I0\n",
        "    for i in range(nt):\n",
        "        \n",
        "        for n in range(13):\n",
        "\n",
        "            dSdt, dEdt, dIdt = SEImodel(theta,S[n],E[n],I[n])\n",
        "            S += dt*dSdt\n",
        "            E += dt*dEdt\n",
        "            I += dt*dIdt\n",
        "        \n",
        "            Sout[i+1] = S; Eout[i+1] = E; Iout[i+1] = I;\n",
        "        \n",
        "    return Sout, Eout, Iout"
      ],
      "execution_count": 0,
      "outputs": []
    },
    {
      "cell_type": "code",
      "metadata": {
        "id": "hw40DdZkA7bw",
        "colab_type": "code",
        "outputId": "318c2bc1-57e8-466e-9ba9-c92e360f23e2",
        "colab": {
          "base_uri": "https://localhost:8080/",
          "height": 34
        }
      },
      "source": [
        "i = 5\n",
        "q = 8\n",
        "print(i,q)"
      ],
      "execution_count": 0,
      "outputs": [
        {
          "output_type": "stream",
          "text": [
            "5 8\n"
          ],
          "name": "stdout"
        }
      ]
    },
    {
      "cell_type": "code",
      "metadata": {
        "id": "OmPeA7NnDJIh",
        "colab_type": "code",
        "colab": {}
      },
      "source": [
        "ProvincePop = [4413146, 5110917, 1377517, 779993, 521365, 44904, 977457, 39097, 14711827, 158158, 8537674, 1181666, 41078] \n",
        "#Statistics Canada Population estimate - Q1 2020\n",
        "\n",
        "ProvinceInitialInfection = [0, 1, 0, 0, 0, 0, 0, 0, 3, 0, 1, 0, 0]\n",
        "\n",
        "ProvinceDeltaT = [1, 0, 1, 1, 1, 1, 1, 1, 0, 1, 32, 1, 1]\n",
        "\n",
        "Province = ['AB', 'BC', 'MB', 'NB', 'NL', 'NT', 'NS', 'NU', 'ON', 'PE', 'QC', 'SK', 'YT']\n",
        "\n",
        "S = ProvincePop[]"
      ],
      "execution_count": 0,
      "outputs": []
    }
  ]
}