{
  "nbformat": 4,
  "nbformat_minor": 0,
  "metadata": {
    "colab": {
      "name": "MeBestShot.ipynb",
      "provenance": [],
      "authorship_tag": "ABX9TyN07afvD/+XLAn7BgdgUcIH",
      "include_colab_link": true
    },
    "kernelspec": {
      "name": "python3",
      "display_name": "Python 3"
    }
  },
  "cells": [
    {
      "cell_type": "markdown",
      "metadata": {
        "id": "view-in-github",
        "colab_type": "text"
      },
      "source": [
        "<a href=\"https://colab.research.google.com/github/periwinklemctartins/Coronavirus--Propogation-Simulation/blob/master/VectorEquations.ipynb\" target=\"_parent\"><img src=\"https://colab.research.google.com/assets/colab-badge.svg\" alt=\"Open In Colab\"/></a>"
      ]
    },
    {
      "cell_type": "code",
      "metadata": {
        "id": "FJCOR25J5a9L",
        "colab_type": "code",
        "colab": {}
      },
      "source": [
        "import pandas as pd\n",
        "import torch\n",
        "import matplotlib.pyplot as plt\n",
        "import matplotlib\n",
        "import numpy as np"
      ],
      "execution_count": 0,
      "outputs": []
    },
    {
      "cell_type": "code",
      "metadata": {
        "id": "cXwzTGoYm4jx",
        "colab_type": "code",
        "colab": {}
      },
      "source": [
        "def test(yo):\n",
        "\n",
        "  yo += 2\n",
        "\n",
        "  a = torch.tensor([1,2])\n",
        "  b = torch.tensor([[3,4],[5,6]])\n",
        "\n",
        "  return a, b\n",
        "\n",
        "\n"
      ],
      "execution_count": 0,
      "outputs": []
    },
    {
      "cell_type": "code",
      "metadata": {
        "id": "Dogo51gW07gu",
        "colab_type": "code",
        "colab": {
          "base_uri": "https://localhost:8080/",
          "height": 34
        },
        "outputId": "951c908c-b96e-4acb-87a1-f12ace720003"
      },
      "source": [
        "a = torch.tensor([1,2])\n",
        "b = torch.tensor([1,2])\n",
        "\n",
        "c = a + b\n",
        "\n",
        "print(c)"
      ],
      "execution_count": 17,
      "outputs": [
        {
          "output_type": "stream",
          "text": [
            "tensor([2, 4])\n"
          ],
          "name": "stdout"
        }
      ]
    },
    {
      "cell_type": "markdown",
      "metadata": {
        "id": "foqoGpsLVnWe",
        "colab_type": "text"
      },
      "source": [
        "## Variable Initialization"
      ]
    },
    {
      "cell_type": "code",
      "metadata": {
        "id": "_OOy17WZil6A",
        "colab_type": "code",
        "colab": {}
      },
      "source": [
        "# province = [abrev, population, # of initial infections, time between first case in Canada and first case in province]\n",
        "\n",
        "AB = ['AB', 4413146, 1, 37]\n",
        "BC = ['BC', 5110917, 1, 0]\n",
        "MB = ['MB', 1377517, 1, 42]\n",
        "NB = ['NB', 779993, 1, 42]\n",
        "NL = ['NL', 521365, 1, 48]\n",
        "NT = ['NT', 44904, 1, 50]\n",
        "NS = ['NS', 977457, 1, 47]\n",
        "NU = ['NU', 39097, 0, 0]\n",
        "ON = ['ON', 14711827, 3, 0]\n",
        "PE = ['PE', 158158, 1, 44]\n",
        "QC = ['QC', 8537674, 1, 30]\n",
        "SK = ['SK', 1181666, 1, 45]\n",
        "YT = ['YT', 41078, 2, 52]\n",
        "\n",
        "Provinces = [ AB, BC, MB, NB, NL, NT, NS, NU, ON, PE, QC, SK, YT ]\n",
        "\n",
        "L = torch.tensor([[6,    -1,    -1,     0,     0,     0,     0,     0,    -1,     0,    -1,    -1,    -1], \n",
        "                  [-1,    6,    -1,     0,     0,    -1,     0,     0,    -1,     0,    -1,    -1,     0],\n",
        "                  [-1,    1,     7,     0,     0,    -1,     0,    -1,    -1,     0,    -1,    -1,     0],\n",
        "                  [0,     0,     0,     4,    -1,     0,     0,     0,    -1,    -1,    -1,     0,     0],\n",
        "                  [0,     0,     0,    -1,     5,     0,    -1,     0,    -1,    -1,    -1,     0,     0],\n",
        "                  [0,    -1,    -1,     0,     0,     7,     0,    -1,    -1,     0,    -1,    -1,    -1],\n",
        "                  [0,     0,     0,     0,    -1,     0,     4,     0,    -1,    -1,    -1,     0,     0],\n",
        "                  [0,     0,    -1,     0,     0,    -1,     0,     6,    -1,     0,    -1,    -1,    -1],\n",
        "                  [-1,    -1,    -1,    -1,    -1,    -1,    -1,    -1,    12,    -1,    -1,    -1,   -1],\n",
        "                  [0,     0,     0,    -1,    -1,     0,    -1,     0,    -1,     5,    -1,     0,     0],\n",
        "                  [-1,    -1,    -1,    -1,    -1,    -1,    -1,    -1,    -1,    -1,    12,    -1,   -1],\n",
        "                  [-1,    -1,    -1,     0,     0,    -1,     0,    -1,    -1,     0,    -1,     7,    0],\n",
        "                  [-1,     0,     0,     0,     0,    -1,     0,    -1,    -1,     0,    -1,     0,    5]]);"
      ],
      "execution_count": 0,
      "outputs": []
    },
    {
      "cell_type": "code",
      "metadata": {
        "id": "Oa3c5ZRflvyb",
        "colab_type": "code",
        "colab": {}
      },
      "source": [
        "S =  torch.zeros(13)\n",
        "E =  torch.zeros(13)\n",
        "I =  torch.zeros(13)\n",
        "S0 = torch.zeros(13)\n",
        "E0 = torch.zeros(13)\n",
        "I0 = torch.zeros(13)\n",
        "\n",
        "FE = 0.01     # Fraction of population that is initially exposed\n",
        "\n",
        "# Initializes Susceptible\n",
        "for n in range(13):\n",
        "    Province = Provinces[n]\n",
        "    \n",
        "    # Initializes Susceptible\n",
        "    S0[n] = Province[1]*(1 - FE)\n",
        "\n",
        "    # Initializes Exposed\n",
        "    E0[n] = Province[1]*FE"
      ],
      "execution_count": 0,
      "outputs": []
    },
    {
      "cell_type": "code",
      "metadata": {
        "id": "ID3dmB_oDI0q",
        "colab_type": "code",
        "outputId": "9815494b-7143-4d7f-a1ca-7b9a0675ee88",
        "colab": {
          "base_uri": "https://localhost:8080/",
          "height": 375
        }
      },
      "source": [
        "dt = 0.05; nt = 4000\n",
        "\n",
        "alpha = 0.2\n",
        "beta  = 0.5\n",
        "gamma = 0.01\n",
        "mu    = 0.075\n",
        "kE    = 0.0005\n",
        "kS    = 0.0005\n",
        "kI    = 0\n",
        "theta = torch.tensor([alpha, beta, gamma, mu, kE, kS, kI])\n",
        "\n",
        "P = ['AB', 'BC', 'MB', 'NB', 'NL', 'NT', 'NS', 'NU', 'ON', 'PE', 'QC', 'SK', 'YT']\n",
        "\n",
        "Sout, Eout, Iout = integrateSEI(theta,S0,E0,I0,dt,nt)\n",
        "\n",
        "S = torch.zeros(nt+1); E = torch.zeros(nt+1); I = torch.zeros(nt+1)\n",
        "\n",
        "for n in range(13):\n",
        "  for i in range(nt+1):\n",
        "    S[i] = Sout[n,i]; E[i] = Eout[n,i]; I[i] = Iout[n,i]\n",
        "  \n",
        "  t = np.arange(nt+1)*dt\n",
        "  title = 'maximum of infected people %', P[n], # torch.max(I).item()\n",
        "  plt.figure(n)\n",
        "  plt.title(title)\n",
        "  plt.plot(t,S,t,E,t,I)"
      ],
      "execution_count": 32,
      "outputs": [
        {
          "output_type": "error",
          "ename": "RuntimeError",
          "evalue": "ignored",
          "traceback": [
            "\u001b[0;31m---------------------------------------------------------------------------\u001b[0m",
            "\u001b[0;31mRuntimeError\u001b[0m                              Traceback (most recent call last)",
            "\u001b[0;32m<ipython-input-32-043b635c5cd3>\u001b[0m in \u001b[0;36m<module>\u001b[0;34m()\u001b[0m\n\u001b[1;32m     13\u001b[0m \u001b[0mP\u001b[0m \u001b[0;34m=\u001b[0m \u001b[0;34m[\u001b[0m\u001b[0;34m'AB'\u001b[0m\u001b[0;34m,\u001b[0m \u001b[0;34m'BC'\u001b[0m\u001b[0;34m,\u001b[0m \u001b[0;34m'MB'\u001b[0m\u001b[0;34m,\u001b[0m \u001b[0;34m'NB'\u001b[0m\u001b[0;34m,\u001b[0m \u001b[0;34m'NL'\u001b[0m\u001b[0;34m,\u001b[0m \u001b[0;34m'NT'\u001b[0m\u001b[0;34m,\u001b[0m \u001b[0;34m'NS'\u001b[0m\u001b[0;34m,\u001b[0m \u001b[0;34m'NU'\u001b[0m\u001b[0;34m,\u001b[0m \u001b[0;34m'ON'\u001b[0m\u001b[0;34m,\u001b[0m \u001b[0;34m'PE'\u001b[0m\u001b[0;34m,\u001b[0m \u001b[0;34m'QC'\u001b[0m\u001b[0;34m,\u001b[0m \u001b[0;34m'SK'\u001b[0m\u001b[0;34m,\u001b[0m \u001b[0;34m'YT'\u001b[0m\u001b[0;34m]\u001b[0m\u001b[0;34m\u001b[0m\u001b[0;34m\u001b[0m\u001b[0m\n\u001b[1;32m     14\u001b[0m \u001b[0;34m\u001b[0m\u001b[0m\n\u001b[0;32m---> 15\u001b[0;31m \u001b[0mSout\u001b[0m\u001b[0;34m,\u001b[0m \u001b[0mEout\u001b[0m\u001b[0;34m,\u001b[0m \u001b[0mIout\u001b[0m \u001b[0;34m=\u001b[0m \u001b[0mintegrateSEI\u001b[0m\u001b[0;34m(\u001b[0m\u001b[0mtheta\u001b[0m\u001b[0;34m,\u001b[0m\u001b[0mS0\u001b[0m\u001b[0;34m,\u001b[0m\u001b[0mE0\u001b[0m\u001b[0;34m,\u001b[0m\u001b[0mI0\u001b[0m\u001b[0;34m,\u001b[0m\u001b[0mdt\u001b[0m\u001b[0;34m,\u001b[0m\u001b[0mnt\u001b[0m\u001b[0;34m)\u001b[0m\u001b[0;34m\u001b[0m\u001b[0;34m\u001b[0m\u001b[0m\n\u001b[0m\u001b[1;32m     16\u001b[0m \u001b[0;34m\u001b[0m\u001b[0m\n\u001b[1;32m     17\u001b[0m \u001b[0mS\u001b[0m \u001b[0;34m=\u001b[0m \u001b[0mtorch\u001b[0m\u001b[0;34m.\u001b[0m\u001b[0mzeros\u001b[0m\u001b[0;34m(\u001b[0m\u001b[0mnt\u001b[0m\u001b[0;34m+\u001b[0m\u001b[0;36m1\u001b[0m\u001b[0;34m)\u001b[0m\u001b[0;34m;\u001b[0m \u001b[0mE\u001b[0m \u001b[0;34m=\u001b[0m \u001b[0mtorch\u001b[0m\u001b[0;34m.\u001b[0m\u001b[0mzeros\u001b[0m\u001b[0;34m(\u001b[0m\u001b[0mnt\u001b[0m\u001b[0;34m+\u001b[0m\u001b[0;36m1\u001b[0m\u001b[0;34m)\u001b[0m\u001b[0;34m;\u001b[0m \u001b[0mI\u001b[0m \u001b[0;34m=\u001b[0m \u001b[0mtorch\u001b[0m\u001b[0;34m.\u001b[0m\u001b[0mzeros\u001b[0m\u001b[0;34m(\u001b[0m\u001b[0mnt\u001b[0m\u001b[0;34m+\u001b[0m\u001b[0;36m1\u001b[0m\u001b[0;34m)\u001b[0m\u001b[0;34m\u001b[0m\u001b[0;34m\u001b[0m\u001b[0m\n",
            "\u001b[0;32m<ipython-input-31-796a12d7febc>\u001b[0m in \u001b[0;36mintegrateSEI\u001b[0;34m(theta, S0, E0, I0, dt, nt)\u001b[0m\n\u001b[1;32m     18\u001b[0m     \u001b[0;32mfor\u001b[0m \u001b[0mi\u001b[0m \u001b[0;32min\u001b[0m \u001b[0mrange\u001b[0m\u001b[0;34m(\u001b[0m\u001b[0mnt\u001b[0m\u001b[0;34m)\u001b[0m\u001b[0;34m:\u001b[0m\u001b[0;34m\u001b[0m\u001b[0;34m\u001b[0m\u001b[0m\n\u001b[1;32m     19\u001b[0m \u001b[0;34m\u001b[0m\u001b[0m\n\u001b[0;32m---> 20\u001b[0;31m         \u001b[0mdSdt\u001b[0m\u001b[0;34m,\u001b[0m \u001b[0mdEdt\u001b[0m\u001b[0;34m,\u001b[0m \u001b[0mdIdt\u001b[0m \u001b[0;34m=\u001b[0m \u001b[0mSEImodel\u001b[0m\u001b[0;34m(\u001b[0m\u001b[0mtheta\u001b[0m\u001b[0;34m,\u001b[0m\u001b[0mS\u001b[0m\u001b[0;34m,\u001b[0m\u001b[0mE\u001b[0m\u001b[0;34m,\u001b[0m\u001b[0mI\u001b[0m\u001b[0;34m)\u001b[0m\u001b[0;34m\u001b[0m\u001b[0;34m\u001b[0m\u001b[0m\n\u001b[0m\u001b[1;32m     21\u001b[0m         \u001b[0mS\u001b[0m \u001b[0;34m+=\u001b[0m \u001b[0mdt\u001b[0m\u001b[0;34m*\u001b[0m\u001b[0mdSdt\u001b[0m\u001b[0;34m\u001b[0m\u001b[0;34m\u001b[0m\u001b[0m\n\u001b[1;32m     22\u001b[0m         \u001b[0mE\u001b[0m \u001b[0;34m+=\u001b[0m \u001b[0mdt\u001b[0m\u001b[0;34m*\u001b[0m\u001b[0mdEdt\u001b[0m\u001b[0;34m\u001b[0m\u001b[0;34m\u001b[0m\u001b[0m\n",
            "\u001b[0;32m<ipython-input-23-5c09230d3ecc>\u001b[0m in \u001b[0;36mSEImodel\u001b[0;34m(theta, S, E, I)\u001b[0m\n\u001b[1;32m     13\u001b[0m     \u001b[0;31m# dIdt = tensor.zeros(13)\u001b[0m\u001b[0;34m\u001b[0m\u001b[0;34m\u001b[0m\u001b[0;34m\u001b[0m\u001b[0m\n\u001b[1;32m     14\u001b[0m \u001b[0;34m\u001b[0m\u001b[0m\n\u001b[0;32m---> 15\u001b[0;31m     \u001b[0mdSdt\u001b[0m  \u001b[0;34m=\u001b[0m \u001b[0;34m-\u001b[0m\u001b[0mkS\u001b[0m\u001b[0;34m*\u001b[0m\u001b[0mtorch\u001b[0m\u001b[0;34m.\u001b[0m\u001b[0mmv\u001b[0m\u001b[0;34m(\u001b[0m\u001b[0mL\u001b[0m\u001b[0;34m,\u001b[0m\u001b[0mS\u001b[0m\u001b[0;34m)\u001b[0m \u001b[0;34m-\u001b[0m \u001b[0mbeta\u001b[0m\u001b[0;34m*\u001b[0m\u001b[0;34m(\u001b[0m\u001b[0mE\u001b[0m\u001b[0;34m*\u001b[0m\u001b[0mS\u001b[0m\u001b[0;34m)\u001b[0m \u001b[0;34m-\u001b[0m \u001b[0mgamma\u001b[0m\u001b[0;34m*\u001b[0m\u001b[0;34m(\u001b[0m\u001b[0mI\u001b[0m\u001b[0;34m*\u001b[0m\u001b[0mS\u001b[0m\u001b[0;34m)\u001b[0m                \u001b[0;31m# dS/dt\u001b[0m\u001b[0;34m\u001b[0m\u001b[0;34m\u001b[0m\u001b[0m\n\u001b[0m\u001b[1;32m     16\u001b[0m     \u001b[0mdEdt\u001b[0m  \u001b[0;34m=\u001b[0m \u001b[0;34m-\u001b[0m\u001b[0mkE\u001b[0m\u001b[0;34m*\u001b[0m\u001b[0mtorch\u001b[0m\u001b[0;34m.\u001b[0m\u001b[0mmv\u001b[0m\u001b[0;34m(\u001b[0m\u001b[0mL\u001b[0m\u001b[0;34m,\u001b[0m\u001b[0mE\u001b[0m\u001b[0;34m)\u001b[0m \u001b[0;34m+\u001b[0m \u001b[0mbeta\u001b[0m\u001b[0;34m*\u001b[0m\u001b[0;34m(\u001b[0m\u001b[0mE\u001b[0m\u001b[0;34m*\u001b[0m\u001b[0mS\u001b[0m\u001b[0;34m)\u001b[0m  \u001b[0;34m+\u001b[0m \u001b[0mgamma\u001b[0m\u001b[0;34m*\u001b[0m\u001b[0;34m(\u001b[0m\u001b[0mI\u001b[0m\u001b[0;34m*\u001b[0m\u001b[0mS\u001b[0m\u001b[0;34m)\u001b[0m \u001b[0;34m-\u001b[0m \u001b[0malpha\u001b[0m\u001b[0;34m*\u001b[0m\u001b[0mE\u001b[0m      \u001b[0;31m# dE/dt\u001b[0m\u001b[0;34m\u001b[0m\u001b[0;34m\u001b[0m\u001b[0m\n\u001b[1;32m     17\u001b[0m     \u001b[0mdIdt\u001b[0m  \u001b[0;34m=\u001b[0m \u001b[0;34m-\u001b[0m\u001b[0mkI\u001b[0m\u001b[0;34m*\u001b[0m\u001b[0mtorch\u001b[0m\u001b[0;34m.\u001b[0m\u001b[0mmv\u001b[0m\u001b[0;34m(\u001b[0m\u001b[0mL\u001b[0m\u001b[0;34m,\u001b[0m\u001b[0mI\u001b[0m\u001b[0;34m)\u001b[0m \u001b[0;34m+\u001b[0m \u001b[0malpha\u001b[0m\u001b[0;34m*\u001b[0m\u001b[0mE\u001b[0m \u001b[0;34m-\u001b[0m \u001b[0mmu\u001b[0m\u001b[0;34m*\u001b[0m\u001b[0mI\u001b[0m                       \u001b[0;31m# dI/dt\u001b[0m\u001b[0;34m\u001b[0m\u001b[0;34m\u001b[0m\u001b[0m\n",
            "\u001b[0;31mRuntimeError\u001b[0m: Expected object of scalar type Long but got scalar type Float for argument #3 'vec' in call to _th_addmv_out"
          ]
        }
      ]
    },
    {
      "cell_type": "code",
      "metadata": {
        "id": "-u73BKd655s7",
        "colab_type": "code",
        "colab": {}
      },
      "source": [
        "# First define the right hand side, we store all the parameters\n",
        "# in a single vector theta = [alpha, beta, gamma, mu]\n",
        "def SEImodel(theta,S,E,I):\n",
        "    \n",
        "    alpha = theta[0]\n",
        "    beta  = theta[1]\n",
        "    gamma = theta[2]\n",
        "    mu    = theta[3]\n",
        "    kE    = theta[4]\n",
        "    kS    = theta[5]\n",
        "    kI    = theta[6]\n",
        "\n",
        "    # dSdt = tensor.zeros(13)\n",
        "    # dEdt = tensor.zeros(13)\n",
        "    # dIdt = tensor.zeros(13)\n",
        "\n",
        "    print(S)\n",
        "    print(E)\n",
        "    print(I)\n",
        "\n",
        "    dSdt  = -kS*torch.mv(L,S) - beta*(E*S) - gamma*(I*S)                # dS/dt\n",
        "    dEdt  = -kE*torch.mv(L,E) + beta*(E*S)  + gamma*(I*S) - alpha*E      # dE/dt\n",
        "    dIdt  = -kI*torch.mv(L,I) + alpha*E - mu*I                       # dI/dt\n",
        "    \n",
        "    return dSdt, dEdt, dIdt"
      ],
      "execution_count": 0,
      "outputs": []
    },
    {
      "cell_type": "code",
      "metadata": {
        "id": "SIg704GdOmqE",
        "colab_type": "code",
        "colab": {
          "base_uri": "https://localhost:8080/",
          "height": 232
        },
        "outputId": "2588250b-e778-4973-9315-63ace729678f"
      },
      "source": [
        "S =  torch.zeros(13)\n",
        "E =  torch.zeros(13)\n",
        "I =  torch.zeros(13)\n",
        "S0 = torch.zeros(13)\n",
        "E0 = torch.zeros(13)\n",
        "I0 = torch.zeros(13)\n",
        "\n",
        "FE = 0.01     # Fraction of population that is initially exposed\n",
        "\n",
        "# Initializes Susceptible\n",
        "for n in range(13):\n",
        "    Province = Provinces[n]\n",
        "    \n",
        "    # Initializes Susceptible\n",
        "    S[n] = int(round(Province[1]*(1 - FE)))\n",
        "\n",
        "    # Initializes Exposed\n",
        "    E[n] = Province[1]*FE\n",
        "\n",
        "alpha = 0.2\n",
        "beta  = 0.5\n",
        "gamma = 0.01\n",
        "mu    = 0.075\n",
        "kE    = 1\n",
        "kS    = 1\n",
        "kI    = 0\n",
        "theta = torch.tensor([alpha, beta, gamma, mu, kE, kS, kI])\n",
        "\n",
        "dSdt  = torch.mv(L,S) - beta*(E*S) - gamma*(I*S)\n",
        "\n",
        "print(S)"
      ],
      "execution_count": 57,
      "outputs": [
        {
          "output_type": "error",
          "ename": "RuntimeError",
          "evalue": "ignored",
          "traceback": [
            "\u001b[0;31m---------------------------------------------------------------------------\u001b[0m",
            "\u001b[0;31mRuntimeError\u001b[0m                              Traceback (most recent call last)",
            "\u001b[0;32m<ipython-input-57-3714d81ce47c>\u001b[0m in \u001b[0;36m<module>\u001b[0;34m()\u001b[0m\n\u001b[1;32m     27\u001b[0m \u001b[0mtheta\u001b[0m \u001b[0;34m=\u001b[0m \u001b[0mtorch\u001b[0m\u001b[0;34m.\u001b[0m\u001b[0mtensor\u001b[0m\u001b[0;34m(\u001b[0m\u001b[0;34m[\u001b[0m\u001b[0malpha\u001b[0m\u001b[0;34m,\u001b[0m \u001b[0mbeta\u001b[0m\u001b[0;34m,\u001b[0m \u001b[0mgamma\u001b[0m\u001b[0;34m,\u001b[0m \u001b[0mmu\u001b[0m\u001b[0;34m,\u001b[0m \u001b[0mkE\u001b[0m\u001b[0;34m,\u001b[0m \u001b[0mkS\u001b[0m\u001b[0;34m,\u001b[0m \u001b[0mkI\u001b[0m\u001b[0;34m]\u001b[0m\u001b[0;34m)\u001b[0m\u001b[0;34m\u001b[0m\u001b[0;34m\u001b[0m\u001b[0m\n\u001b[1;32m     28\u001b[0m \u001b[0;34m\u001b[0m\u001b[0m\n\u001b[0;32m---> 29\u001b[0;31m \u001b[0mdSdt\u001b[0m  \u001b[0;34m=\u001b[0m \u001b[0mtorch\u001b[0m\u001b[0;34m.\u001b[0m\u001b[0mmv\u001b[0m\u001b[0;34m(\u001b[0m\u001b[0mL\u001b[0m\u001b[0;34m,\u001b[0m\u001b[0mS\u001b[0m\u001b[0;34m)\u001b[0m \u001b[0;34m-\u001b[0m \u001b[0mbeta\u001b[0m\u001b[0;34m*\u001b[0m\u001b[0;34m(\u001b[0m\u001b[0mE\u001b[0m\u001b[0;34m*\u001b[0m\u001b[0mS\u001b[0m\u001b[0;34m)\u001b[0m \u001b[0;34m-\u001b[0m \u001b[0mgamma\u001b[0m\u001b[0;34m*\u001b[0m\u001b[0;34m(\u001b[0m\u001b[0mI\u001b[0m\u001b[0;34m*\u001b[0m\u001b[0mS\u001b[0m\u001b[0;34m)\u001b[0m\u001b[0;34m\u001b[0m\u001b[0;34m\u001b[0m\u001b[0m\n\u001b[0m\u001b[1;32m     30\u001b[0m \u001b[0;34m\u001b[0m\u001b[0m\n\u001b[1;32m     31\u001b[0m \u001b[0mprint\u001b[0m\u001b[0;34m(\u001b[0m\u001b[0mS\u001b[0m\u001b[0;34m)\u001b[0m\u001b[0;34m\u001b[0m\u001b[0;34m\u001b[0m\u001b[0m\n",
            "\u001b[0;31mRuntimeError\u001b[0m: Expected object of scalar type Long but got scalar type Float for argument #3 'vec' in call to _th_addmv_out"
          ]
        }
      ]
    },
    {
      "cell_type": "code",
      "metadata": {
        "id": "3U4epYUnSA9m",
        "colab_type": "code",
        "colab": {
          "base_uri": "https://localhost:8080/",
          "height": 34
        },
        "outputId": "6cb50647-db04-4bc7-ef20-c23f8e2e3302"
      },
      "source": [
        "M = torch.tensor([[1,2],[3,4]])\n",
        "V = torch.tensor([5,6])\n",
        "\n",
        "p = torch.mv(M,V)\n",
        "\n",
        "print(p)"
      ],
      "execution_count": 41,
      "outputs": [
        {
          "output_type": "stream",
          "text": [
            "tensor([17, 39])\n"
          ],
          "name": "stdout"
        }
      ]
    },
    {
      "cell_type": "code",
      "metadata": {
        "id": "8ocOqOTkDIml",
        "colab_type": "code",
        "colab": {}
      },
      "source": [
        "def integrateSEI(theta,S0,E0,I0,dt,nt):\n",
        "    \n",
        "    # tensors to save the results over time\n",
        "    Sout = torch.zeros(13,nt+1)\n",
        "    Eout = torch.zeros(13,nt+1)\n",
        "    Iout = torch.zeros(13,nt+1)\n",
        "    \n",
        "    for i in range(13):\n",
        "        Sout[i,0] = S0[i]\n",
        "        Eout[i,0] = E0[i]\n",
        "        Iout[i,0] = E0[i]\n",
        "    \n",
        "    # Sout = torch.zeros(nt+1); Sout[0] = S0\n",
        "    # Eout = torch.zeros(nt+1); Eout[0] = E0\n",
        "    # Iout = torch.zeros(nt+1); Iout[0] = I0\n",
        "    \n",
        "    S = S0; E = E0; I = I0\n",
        "    for i in range(nt):\n",
        "        \n",
        "        dSdt, dEdt, dIdt = SEImodel(theta,S,E,I)\n",
        "        S += dt*dSdt\n",
        "        E += dt*dEdt\n",
        "        I += dt*dIdt\n",
        "        \n",
        "        for n in range(13):\n",
        "            Sout[n,i+1] = S[n]; Eout[n,i+1] = E[n]; Iout[n,i+1] = I[n]\n",
        "        \n",
        "    return Sout, Eout, Iout"
      ],
      "execution_count": 0,
      "outputs": []
    }
  ]
}