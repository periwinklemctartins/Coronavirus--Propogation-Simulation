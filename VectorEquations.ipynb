{
  "nbformat": 4,
  "nbformat_minor": 0,
  "metadata": {
    "colab": {
      "name": "MeBestShot.ipynb",
      "provenance": [],
      "authorship_tag": "ABX9TyMTsbKosE8w2dIIwllACyia",
      "include_colab_link": true
    },
    "kernelspec": {
      "name": "python3",
      "display_name": "Python 3"
    }
  },
  "cells": [
    {
      "cell_type": "markdown",
      "metadata": {
        "id": "view-in-github",
        "colab_type": "text"
      },
      "source": [
        "<a href=\"https://colab.research.google.com/github/periwinklemctartins/Coronavirus--Propogation-Simulation/blob/master/VectorEquations.ipynb\" target=\"_parent\"><img src=\"https://colab.research.google.com/assets/colab-badge.svg\" alt=\"Open In Colab\"/></a>"
      ]
    },
    {
      "cell_type": "code",
      "metadata": {
        "id": "FJCOR25J5a9L",
        "colab_type": "code",
        "colab": {}
      },
      "source": [
        "import pandas as pd\n",
        "import torch\n",
        "import matplotlib.pyplot as plt\n",
        "import matplotlib\n",
        "import numpy as np"
      ],
      "execution_count": 0,
      "outputs": []
    },
    {
      "cell_type": "code",
      "metadata": {
        "id": "cXwzTGoYm4jx",
        "colab_type": "code",
        "colab": {
          "base_uri": "https://localhost:8080/",
          "height": 34
        },
        "outputId": "0bf4be62-65bc-42c0-d811-d23e1c367e33"
      },
      "source": [
        "a = torch.zeros(4, dtype = torch.int32)\n",
        "\n",
        "print(a)"
      ],
      "execution_count": 22,
      "outputs": [
        {
          "output_type": "stream",
          "text": [
            "tensor([0, 0, 0, 0], dtype=torch.int32)\n"
          ],
          "name": "stdout"
        }
      ]
    },
    {
      "cell_type": "code",
      "metadata": {
        "id": "Dogo51gW07gu",
        "colab_type": "code",
        "outputId": "951c908c-b96e-4acb-87a1-f12ace720003",
        "colab": {
          "base_uri": "https://localhost:8080/",
          "height": 34
        }
      },
      "source": [
        "a = torch.tensor([1,2])\n",
        "b = torch.tensor([1,2])\n",
        "\n",
        "c = a + b\n",
        "\n",
        "print(c)"
      ],
      "execution_count": 0,
      "outputs": [
        {
          "output_type": "stream",
          "text": [
            "tensor([2, 4])\n"
          ],
          "name": "stdout"
        }
      ]
    },
    {
      "cell_type": "markdown",
      "metadata": {
        "id": "foqoGpsLVnWe",
        "colab_type": "text"
      },
      "source": [
        "## Variable Initialization"
      ]
    },
    {
      "cell_type": "code",
      "metadata": {
        "id": "_OOy17WZil6A",
        "colab_type": "code",
        "colab": {}
      },
      "source": [
        "# province = [abrev, population, # of initial infections, time between first case in Canada and first case in province]\n",
        "\n",
        "AB = ['AB', 4413146, 1, 37]\n",
        "BC = ['BC', 5110917, 1, 0]\n",
        "MB = ['MB', 1377517, 1, 42]\n",
        "NB = ['NB', 779993, 1, 42]\n",
        "NL = ['NL', 521365, 1, 48]\n",
        "NT = ['NT', 44904, 1, 50]\n",
        "NS = ['NS', 977457, 1, 47]\n",
        "NU = ['NU', 39097, 0, 0]\n",
        "ON = ['ON', 14711827, 3, 0]\n",
        "PE = ['PE', 158158, 1, 44]\n",
        "QC = ['QC', 8537674, 1, 30]\n",
        "SK = ['SK', 1181666, 1, 45]\n",
        "YT = ['YT', 41078, 2, 52]\n",
        "\n",
        "Provinces = [ AB, BC, MB, NB, NL, NT, NS, NU, ON, PE, QC, SK, YT ]\n",
        "\n",
        "L = torch.tensor([[6,    -1,    -1,     0,     0,     0,     0,     0,    -1,     0,    -1,    -1,    -1], \n",
        "                  [-1,    6,    -1,     0,     0,    -1,     0,     0,    -1,     0,    -1,    -1,     0],\n",
        "                  [-1,    1,     7,     0,     0,    -1,     0,    -1,    -1,     0,    -1,    -1,     0],\n",
        "                  [0,     0,     0,     4,    -1,     0,     0,     0,    -1,    -1,    -1,     0,     0],\n",
        "                  [0,     0,     0,    -1,     5,     0,    -1,     0,    -1,    -1,    -1,     0,     0],\n",
        "                  [0,    -1,    -1,     0,     0,     7,     0,    -1,    -1,     0,    -1,    -1,    -1],\n",
        "                  [0,     0,     0,     0,    -1,     0,     4,     0,    -1,    -1,    -1,     0,     0],\n",
        "                  [0,     0,    -1,     0,     0,    -1,     0,     6,    -1,     0,    -1,    -1,    -1],\n",
        "                  [-1,    -1,    -1,    -1,    -1,    -1,    -1,    -1,    12,    -1,    -1,    -1,   -1],\n",
        "                  [0,     0,     0,    -1,    -1,     0,    -1,     0,    -1,     5,    -1,     0,     0],\n",
        "                  [-1,    -1,    -1,    -1,    -1,    -1,    -1,    -1,    -1,    -1,    12,    -1,   -1],\n",
        "                  [-1,    -1,    -1,     0,     0,    -1,     0,    -1,    -1,     0,    -1,     7,    0],\n",
        "                  [-1,     0,     0,     0,     0,    -1,     0,    -1,    -1,     0,    -1,     0,    5]]);"
      ],
      "execution_count": 0,
      "outputs": []
    },
    {
      "cell_type": "code",
      "metadata": {
        "id": "Oa3c5ZRflvyb",
        "colab_type": "code",
        "colab": {
          "base_uri": "https://localhost:8080/",
          "height": 51
        },
        "outputId": "4af13b4d-fceb-4a0d-d597-2977495d7dea"
      },
      "source": [
        "S =  torch.zeros(13, dtype = torch.long)\n",
        "E =  torch.zeros(13, dtype = torch.long)\n",
        "I =  torch.zeros(13, dtype = torch.long)\n",
        "S0 = torch.zeros(13, dtype = torch.long)\n",
        "E0 = torch.zeros(13, dtype = torch.long)\n",
        "I0 = torch.zeros(13, dtype = torch.long)\n",
        "\n",
        "FE = 0.01     # Fraction of population that is initially exposed\n",
        "\n",
        "# Initializes Susceptible\n",
        "for n in range(13):\n",
        "    Province = Provinces[n]\n",
        "    \n",
        "    # Initializes Susceptible\n",
        "    S0[n] = Province[1]*(1 - FE)\n",
        "\n",
        "    # Initializes Exposed\n",
        "    E0[n] = Province[1]*FE"
      ],
      "execution_count": 27,
      "outputs": [
        {
          "output_type": "stream",
          "text": [
            "tensor([ 44131,  51109,  13775,   7799,   5213,    449,   9774,    390, 147118,\n",
            "          1581,  85376,  11816,    410])\n"
          ],
          "name": "stdout"
        }
      ]
    },
    {
      "cell_type": "code",
      "metadata": {
        "id": "ID3dmB_oDI0q",
        "colab_type": "code",
        "outputId": "85a4a9f9-16c4-492a-de92-25f62ac73f70",
        "colab": {
          "base_uri": "https://localhost:8080/",
          "height": 232
        }
      },
      "source": [
        "dt = 0.05; nt = 4000\n",
        "\n",
        "alpha = 0.2\n",
        "beta  = 0.5\n",
        "gamma = 0.01\n",
        "mu    = 0.075\n",
        "kE    = 0.0005\n",
        "kS    = 0.0005\n",
        "kI    = 0\n",
        "theta = torch.tensor([alpha, beta, gamma, mu, kE, kS, kI])\n",
        "\n",
        "P = ['AB', 'BC', 'MB', 'NB', 'NL', 'NT', 'NS', 'NU', 'ON', 'PE', 'QC', 'SK', 'YT']\n",
        "\n",
        "Sout, Eout, Iout = integrateSEI(theta,S0,E0,I0,dt,nt)\n",
        "\n",
        "S = torch.zeros(nt+1); E = torch.zeros(nt+1); I = torch.zeros(nt+1)\n",
        "\n",
        "for n in range(13):\n",
        "  for i in range(nt+1):\n",
        "    S[i] = Sout[n,i]; E[i] = Eout[n,i]; I[i] = Iout[n,i]\n",
        "  \n",
        "  t = np.arange(nt+1)*dt\n",
        "  title = 'maximum of infected people %', P[n], # torch.max(I).item()\n",
        "  plt.figure(n)\n",
        "  plt.title(title)\n",
        "  plt.plot(t,S,t,E,t,I)"
      ],
      "execution_count": 30,
      "outputs": [
        {
          "output_type": "error",
          "ename": "NameError",
          "evalue": "ignored",
          "traceback": [
            "\u001b[0;31m---------------------------------------------------------------------------\u001b[0m",
            "\u001b[0;31mNameError\u001b[0m                                 Traceback (most recent call last)",
            "\u001b[0;32m<ipython-input-30-ddef6e452332>\u001b[0m in \u001b[0;36m<module>\u001b[0;34m()\u001b[0m\n\u001b[1;32m     12\u001b[0m \u001b[0mP\u001b[0m \u001b[0;34m=\u001b[0m \u001b[0;34m[\u001b[0m\u001b[0;34m'AB'\u001b[0m\u001b[0;34m,\u001b[0m \u001b[0;34m'BC'\u001b[0m\u001b[0;34m,\u001b[0m \u001b[0;34m'MB'\u001b[0m\u001b[0;34m,\u001b[0m \u001b[0;34m'NB'\u001b[0m\u001b[0;34m,\u001b[0m \u001b[0;34m'NL'\u001b[0m\u001b[0;34m,\u001b[0m \u001b[0;34m'NT'\u001b[0m\u001b[0;34m,\u001b[0m \u001b[0;34m'NS'\u001b[0m\u001b[0;34m,\u001b[0m \u001b[0;34m'NU'\u001b[0m\u001b[0;34m,\u001b[0m \u001b[0;34m'ON'\u001b[0m\u001b[0;34m,\u001b[0m \u001b[0;34m'PE'\u001b[0m\u001b[0;34m,\u001b[0m \u001b[0;34m'QC'\u001b[0m\u001b[0;34m,\u001b[0m \u001b[0;34m'SK'\u001b[0m\u001b[0;34m,\u001b[0m \u001b[0;34m'YT'\u001b[0m\u001b[0;34m]\u001b[0m\u001b[0;34m\u001b[0m\u001b[0;34m\u001b[0m\u001b[0m\n\u001b[1;32m     13\u001b[0m \u001b[0;34m\u001b[0m\u001b[0m\n\u001b[0;32m---> 14\u001b[0;31m \u001b[0mSout\u001b[0m\u001b[0;34m,\u001b[0m \u001b[0mEout\u001b[0m\u001b[0;34m,\u001b[0m \u001b[0mIout\u001b[0m \u001b[0;34m=\u001b[0m \u001b[0mintegrateSEI\u001b[0m\u001b[0;34m(\u001b[0m\u001b[0mtheta\u001b[0m\u001b[0;34m,\u001b[0m\u001b[0mS0\u001b[0m\u001b[0;34m,\u001b[0m\u001b[0mE0\u001b[0m\u001b[0;34m,\u001b[0m\u001b[0mI0\u001b[0m\u001b[0;34m,\u001b[0m\u001b[0mdt\u001b[0m\u001b[0;34m,\u001b[0m\u001b[0mnt\u001b[0m\u001b[0;34m)\u001b[0m\u001b[0;34m\u001b[0m\u001b[0;34m\u001b[0m\u001b[0m\n\u001b[0m\u001b[1;32m     15\u001b[0m \u001b[0;34m\u001b[0m\u001b[0m\n\u001b[1;32m     16\u001b[0m \u001b[0mS\u001b[0m \u001b[0;34m=\u001b[0m \u001b[0mtorch\u001b[0m\u001b[0;34m.\u001b[0m\u001b[0mzeros\u001b[0m\u001b[0;34m(\u001b[0m\u001b[0mnt\u001b[0m\u001b[0;34m+\u001b[0m\u001b[0;36m1\u001b[0m\u001b[0;34m)\u001b[0m\u001b[0;34m;\u001b[0m \u001b[0mE\u001b[0m \u001b[0;34m=\u001b[0m \u001b[0mtorch\u001b[0m\u001b[0;34m.\u001b[0m\u001b[0mzeros\u001b[0m\u001b[0;34m(\u001b[0m\u001b[0mnt\u001b[0m\u001b[0;34m+\u001b[0m\u001b[0;36m1\u001b[0m\u001b[0;34m)\u001b[0m\u001b[0;34m;\u001b[0m \u001b[0mI\u001b[0m \u001b[0;34m=\u001b[0m \u001b[0mtorch\u001b[0m\u001b[0;34m.\u001b[0m\u001b[0mzeros\u001b[0m\u001b[0;34m(\u001b[0m\u001b[0mnt\u001b[0m\u001b[0;34m+\u001b[0m\u001b[0;36m1\u001b[0m\u001b[0;34m)\u001b[0m\u001b[0;34m\u001b[0m\u001b[0;34m\u001b[0m\u001b[0m\n",
            "\u001b[0;31mNameError\u001b[0m: name 'integrateSEI' is not defined"
          ]
        }
      ]
    },
    {
      "cell_type": "code",
      "metadata": {
        "id": "-u73BKd655s7",
        "colab_type": "code",
        "colab": {}
      },
      "source": [
        "# First define the right hand side, we store all the parameters\n",
        "# in a single vector theta = [alpha, beta, gamma, mu]\n",
        "def SEImodel(theta,S,E,I):\n",
        "    \n",
        "    alpha = theta[0]\n",
        "    beta  = theta[1]\n",
        "    gamma = theta[2]\n",
        "    mu    = theta[3]\n",
        "    kE    = theta[4]\n",
        "    kS    = theta[5]\n",
        "    kI    = theta[6]\n",
        "\n",
        "    # dSdt = tensor.zeros(13)\n",
        "    # dEdt = tensor.zeros(13)\n",
        "    # dIdt = tensor.zeros(13)\n",
        "\n",
        "    dSdt  = -kS*torch.mv(L,S) - beta*(E*S) - gamma*(I*S)                # dS/dt\n",
        "    dEdt  = -kE*torch.mv(L,E) + beta*(E*S)  + gamma*(I*S) - alpha*E      # dE/dt\n",
        "    dIdt  = -kI*torch.mv(L,I) + alpha*E - mu*I                       # dI/dt\n",
        "    \n",
        "    return dSdt, dEdt, dIdt"
      ],
      "execution_count": 0,
      "outputs": []
    },
    {
      "cell_type": "code",
      "metadata": {
        "id": "SIg704GdOmqE",
        "colab_type": "code",
        "outputId": "e54fdca9-a95c-4016-da5a-28e0ce9a71b6",
        "colab": {
          "base_uri": "https://localhost:8080/",
          "height": 68
        }
      },
      "source": [
        "S =  torch.zeros(13, dtype = torch.long)\n",
        "E =  torch.zeros(13, dtype = torch.long)\n",
        "I =  torch.zeros(13, dtype = torch.long)\n",
        "S0 = torch.zeros(13, dtype = torch.long)\n",
        "E0 = torch.zeros(13, dtype = torch.long)\n",
        "I0 = torch.zeros(13, dtype = torch.long)\n",
        "\n",
        "FE = 0.01     # Fraction of population that is initially exposed\n",
        "\n",
        "# Initializes Susceptible\n",
        "for n in range(13):\n",
        "    Province = Provinces[n]\n",
        "    \n",
        "    # Initializes Susceptible\n",
        "    S[n] = int(Province[1]*(1 - FE))\n",
        "\n",
        "    # Initializes Exposed\n",
        "    E[n] = Province[1]*FE\n",
        "\n",
        "alpha = 0.2\n",
        "beta  = 0.5\n",
        "gamma = 0.01\n",
        "mu    = 0.075\n",
        "kE    = 1\n",
        "kS    = 1\n",
        "kI    = 0\n",
        "theta = torch.tensor([alpha, beta, gamma, mu, kE, kS, kI])\n",
        "\n",
        "dSdt  = torch.mv(L,S) - beta*(E*S) - gamma*(I*S)\n",
        "\n",
        "n = 1\n",
        "\n",
        "Province = Provinces[n]\n",
        "S[1] = int(Province[1]*(1 - FE))\n",
        "\n",
        "print(dSdt)"
      ],
      "execution_count": 24,
      "outputs": [
        {
          "output_type": "stream",
          "text": [
            "tensor([-9.6409e+10, -1.2930e+11, -9.4068e+09, -3.0318e+09, -1.3677e+09,\n",
            "        -4.0359e+07, -4.7489e+09, -3.2951e+07, -1.0712e+12, -1.4826e+08,\n",
            "        -3.6074e+11, -6.9372e+09, -3.5603e+07])\n"
          ],
          "name": "stdout"
        }
      ]
    },
    {
      "cell_type": "code",
      "metadata": {
        "id": "3U4epYUnSA9m",
        "colab_type": "code",
        "outputId": "6cb50647-db04-4bc7-ef20-c23f8e2e3302",
        "colab": {
          "base_uri": "https://localhost:8080/",
          "height": 34
        }
      },
      "source": [
        "M = torch.tensor([[1,2],[3,4]])\n",
        "V = torch.tensor([5,6])\n",
        "\n",
        "p = torch.mv(M,V)\n",
        "\n",
        "print(p)"
      ],
      "execution_count": 0,
      "outputs": [
        {
          "output_type": "stream",
          "text": [
            "tensor([17, 39])\n"
          ],
          "name": "stdout"
        }
      ]
    },
    {
      "cell_type": "code",
      "metadata": {
        "id": "8ocOqOTkDIml",
        "colab_type": "code",
        "colab": {}
      },
      "source": [
        "def integrateSEI(theta,S0,E0,I0,dt,nt):\n",
        "    \n",
        "    # tensors to save the results over time\n",
        "    Sout = torch.zeros(13,nt+1)\n",
        "    Eout = torch.zeros(13,nt+1)\n",
        "    Iout = torch.zeros(13,nt+1)\n",
        "    \n",
        "    for i in range(13):\n",
        "        Sout[i,0] = S0[i]\n",
        "        Eout[i,0] = E0[i]\n",
        "        Iout[i,0] = E0[i]\n",
        "    \n",
        "    # Sout = torch.zeros(nt+1); Sout[0] = S0\n",
        "    # Eout = torch.zeros(nt+1); Eout[0] = E0\n",
        "    # Iout = torch.zeros(nt+1); Iout[0] = I0\n",
        "    \n",
        "    S = S0; E = E0; I = I0\n",
        "    for i in range(nt):\n",
        "        \n",
        "        dSdt, dEdt, dIdt = SEImodel(theta,S,E,I)\n",
        "        S += dt*dSdt\n",
        "        E += dt*dEdt\n",
        "        I += dt*dIdt\n",
        "        \n",
        "        for n in range(13):\n",
        "            Sout[n,i+1] = S[n]; Eout[n,i+1] = E[n]; Iout[n,i+1] = I[n]\n",
        "        \n",
        "    return Sout, Eout, Iout"
      ],
      "execution_count": 0,
      "outputs": []
    }
  ]
}