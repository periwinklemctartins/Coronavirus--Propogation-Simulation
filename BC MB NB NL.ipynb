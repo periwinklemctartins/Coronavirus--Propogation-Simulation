{
  "nbformat": 4,
  "nbformat_minor": 0,
  "metadata": {
    "colab": {
      "name": "Untitled0.ipynb",
      "provenance": [],
      "authorship_tag": "ABX9TyPLyZoP+vdBZza6Aml+ImBs",
      "include_colab_link": true
    },
    "kernelspec": {
      "name": "python3",
      "display_name": "Python 3"
    }
  },
  "cells": [
    {
      "cell_type": "markdown",
      "metadata": {
        "id": "view-in-github",
        "colab_type": "text"
      },
      "source": [
        "<a href=\"https://colab.research.google.com/github/periwinklemctartins/Coronavirus--Propogation-Simulation/blob/master/BC%20MB%20NB%20NL.ipynb\" target=\"_parent\"><img src=\"https://colab.research.google.com/assets/colab-badge.svg\" alt=\"Open In Colab\"/></a>"
      ]
    },
    {
      "cell_type": "code",
      "metadata": {
        "id": "6XU8bEKD7Fdi",
        "colab_type": "code",
        "colab": {
          "base_uri": "https://localhost:8080/",
          "height": 54
        },
        "outputId": "26363d1b-28ea-4542-de02-ec5d86a5da7e"
      },
      "source": [
        "import pandas as pd\n",
        "import torch\n",
        "import matplotlib.pyplot as plt\n",
        "import matplotlib\n",
        "import numpy as np\n",
        "\n",
        "starting march 8th\n",
        "Alberta = (0,0,0,0,0,0,0,0,0,0,0,0,0,0,0,0,0,0,0,0,0,0,0,0,0,0,0,0,0,0,0,0,0,0,0,0,1,6,0,7,5,4,6,10,17,18,23,49,49,31,33,42,57,61,67,56,0,79,69,64,0,214,107,0,175,98,25,50,28,49,69,82,81,138,126,162,239,165,0,346,187,306,319,297,216,247,216,154)\n",
        "\n",
        "print(Alberta)\n",
        "\n",
        "starting jan 31st 65\n",
        "     BC = (1,0,0,0,0,0,0,0,3,0,0,0,0,0,0,0,1,0,0,0,0,1,0,0,0,1,0,0,0,0,1,0,4,9,0,6,0,5,7,7,7,11,9,0,30,83,85,0,153,0,48,145,42,66,0,159,0,76,10,96,55,53,29,0,63,25,45,34,40,35,0,45,27,44,0,14,43,0,81,25,71,29,29,95,0,50,55)\n",
        "\n",
        "starting march 11th\n",
        "     MB = (0,0,0,0,0,0,0,0,0,0,0,0,0,0,0,0,0,0,0,0,0,0,0,0,0,0,0,0,0,0,0,0,0,0,0,0,0,0,0,0,0,0,0,0,0,0,0,0,0,0,0,0,0,0,0,0,1,2,1,0,3,0,8,2,0,2,0,1,1,14,1,3,25,8,24,7,24,40,15,12,9,1,13,4,3,6,13,1,5,0,0,4,0,3,0,1,1,2,5,1,1,4,1,0)\n",
        "\n",
        "starting march 11th\n",
        "     NB = (0,0,0,0,0,0,0,0,0,0,0,0,0,0,0,0,0,0,0,0,0,0,0,0,0,0,0,0,0,0,0,0,0,0,0,0,0,0,0,0,1,0,1,0,4,1,1,3,0,6,0,0,1,8,7,12,6,15,2,2,11,10,4,3,3,2,2,3,3,1,0,2,2,0,1,0,0,1,0,0,0,0,0,0,0,0,0,0,)\n",
        "\n",
        "starting march 11th\n",
        "     NL = (0,0,0,0,0,0,0,0,0,0,0,0,0,0,0,0,0,0,0,0,0,0,0,0,0,0,0,0,0,0,0,0,0,0,0,0,0,0,0,0,0,0,0,1,0,0,2,0,1,2,3,15,11,32,15,20,18,15,13,4,23,8,0,12,22,9,2,4,4,3,2,1,2,0,3,5,4,1,0,0,0,1,0,0,1,1,0,0)\n",
        "\n",
        "\n"
      ],
      "execution_count": 4,
      "outputs": [
        {
          "output_type": "stream",
          "text": [
            "[1, 6, 7, 5, 4, 6, 10, 17, 18, 23, 49, 49, 31, 33, 42, 57, 61, 67, 56, 0, 79, 69, 64, 0, 214, 107, 0, 175, 98, 25, 50, 28, 49, 69, 82, 81, 138, 126, 162, 239, 165, 0, 346, 187, 306, 319, 297, 216, 247, 216, 154]\n"
          ],
          "name": "stdout"
        }
      ]
    }
  ]
}