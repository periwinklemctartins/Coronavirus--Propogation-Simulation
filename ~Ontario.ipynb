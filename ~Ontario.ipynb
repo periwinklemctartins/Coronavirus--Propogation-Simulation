{
  "nbformat": 4,
  "nbformat_minor": 0,
  "metadata": {
    "colab": {
      "name": "Untitled0.ipynb",
      "provenance": [],
      "include_colab_link": true
    },
    "kernelspec": {
      "name": "python3",
      "display_name": "Python 3"
    }
  },
  "cells": [
    {
      "cell_type": "markdown",
      "metadata": {
        "id": "view-in-github",
        "colab_type": "text"
      },
      "source": [
        "<a href=\"https://colab.research.google.com/github/periwinklemctartins/Coronavirus--Propogation-Simulation/blob/master/~Ontario.ipynb\" target=\"_parent\"><img src=\"https://colab.research.google.com/assets/colab-badge.svg\" alt=\"Open In Colab\"/></a>"
      ]
    },
    {
      "cell_type": "code",
      "metadata": {
        "id": "LO2bSPsWNlqB",
        "colab_type": "code",
        "colab": {}
      },
      "source": [
        "import pandas as pd\n",
        "import torch\n",
        "import matplotlib.pyplot as plt\n",
        "import matplotlib           \n",
        "import numpy as np\n",
        "import torch.nn as nn\n",
        "import torch.nn.functional as F\n",
        "\n",
        "#Connections between Canadian Provinces\n",
        "A = torch.tensor([[1,     1,     1,     0,     0,     0,     0,     0,     1,     0,     1,     1,     1],\n",
        "                  [1,     1,     1,     0,     0,     1,     0,     0,     1,     0,     1,     1,     0],\n",
        "                  [1,     1,     1,     0,     0,     1,     0,     1,     1,     0,     1,     1,     0],\n",
        "                  [0,     0,     0,     1,     1,     0,     0,     0,     1,     1,     1,     0,     0],\n",
        "                  [0,     0,     0,     1,     1,     0,     1,     0,     1,     1,     1,     0,     0],\n",
        "                  [0,     1,     1,     0,     0,     1,     0,     1,     1,     0,     1,     1,     1],\n",
        "                  [0,     0,     0,     0,     1,     0,     1,     0,     1,     1,     1,     0,     0],\n",
        "                  [0,     0,     1,     0,     0,     1,     0,     1,     1,     0,     1,     1,     1],\n",
        "                  [1,     1,     1,     1,     1,     1,     1,     1,     1,     1,     1,     1,     1],\n",
        "                  [0,     0,     0,     1,     1,     0,     1,     0,     1,     1,     1,     0,     0],\n",
        "                  [1,     1,     1,     1,     1,     1,     1,     1,     1,     1,     1,     1,     1],\n",
        "                  [1,     1,     1,     0,     0,     1,     0,     1,     1,     0,     1,     1,     0],\n",
        "                  [1,     0,     0,     0,     0,     1,     0,     1,     1,     0,     1,     0,     1]]);\n",
        "\n",
        "#Number of connections each province has                  \n",
        "L = torch.tensor([[6,    -1,    -1,     0,     0,     0,     0,     0,    -1,     0,    -1,    -1,    -1], \n",
        "                  [-1,    6,    -1,     0,     0,    -1,     0,     0,    -1,     0,    -1,    -1,     0],\n",
        "                  [-1,    1,     7,     0,     0,    -1,     0,    -1,    -1,     0,    -1,    -1,     0],\n",
        "                  [0,     0,     0,     4,    -1,     0,     0,     0,    -1,    -1,    -1,     0,     0],\n",
        "                  [0,     0,     0,    -1,     5,     0,    -1,     0,    -1,    -1,    -1,     0,     0],\n",
        "                  [0,    -1,    -1,     0,     0,     7,     0,    -1,    -1,     0,    -1,    -1,    -1],\n",
        "                  [0,     0,     0,     0,    -1,     0,     4,     0,    -1,    -1,    -1,     0,     0],\n",
        "                  [0,     0,    -1,     0,     0,    -1,     0,     6,    -1,     0,    -1,    -1,    -1],\n",
        "                  [-1,    -1,    -1,    -1,    -1,    -1,    -1,    -1,    12,    -1,    -1,    -1,   -1],\n",
        "                  [0,     0,     0,    -1,    -1,     0,    -1,     0,    -1,     5,    -1,     0,     0],\n",
        "                  [-1,    -1,    -1,    -1,    -1,    -1,    -1,    -1,    -1,    -1,    12,    -1,   -1],\n",
        "                  [-1,    -1,    -1,     0,     0,    -1,     0,    -1,    -1,     0,    -1,     7,    0],\n",
        "                  [-1,     0,     0,     0,     0,    -1,     0,    -1,    -1,     0,    -1,     0,    5]]);\n",
        "\n"
      ],
      "execution_count": 0,
      "outputs": []
    },
    {
      "cell_type": "code",
      "metadata": {
        "id": "f8Ls36tkNqqO",
        "colab_type": "code",
        "colab": {}
      },
      "source": [
        "def SEImodel(theta,S,E,I):\n",
        "    alpha = theta[0]\n",
        "    beta  = theta[1]\n",
        "    gamma = theta[2]\n",
        "    mu    = theta[3]\n",
        "    kE    = theta[4]\n",
        "    kS    = theta[5]\n",
        "    kI    = theta[6]\n",
        "    \n",
        "\n",
        "    dSdt  = -kS*L[n,n]*S - beta*E*S - gamma*I*S                 # dS/dt\n",
        "    dEdt  = -kE*L[n,n]*E + beta*E*S  + gamma*I*S - alpha*E      # dE/dt\n",
        "    dIdt  = -kI*L[n,n]*I + alpha*E - mu*I                       # dI/dt\n",
        "    \n",
        "    return dSdt, dEdt, dIdt\n",
        "\n",
        "\n"
      ],
      "execution_count": 0,
      "outputs": []
    },
    {
      "cell_type": "code",
      "metadata": {
        "id": "TjBsWqAWNtIG",
        "colab_type": "code",
        "colab": {}
      },
      "source": [
        "def integrateSEI(theta,S0,E0,I0,dt,nt):\n",
        "    \n",
        "    # vectors to save the results over time\n",
        "    Sout = torch.zeros(nt+1); Sout[0] = S0\n",
        "    Eout = torch.zeros(nt+1); Eout[0] = E0\n",
        "    Iout = torch.zeros(nt+1); Iout[0] = I0\n",
        "    \n",
        "    S = S0; E = E0; I = I0\n",
        "    for i in range(nt):\n",
        "        dSdt, dEdt, dIdt = SEImodel(theta,S,E,I)\n",
        " \n",
        "\n",
        "        S += dt*dSdt\n",
        "        E += dt*dEdt\n",
        "        I += dt*dIdt\n",
        "\n",
        "        Sout[i+1] = S\n",
        "        Eout[i+1] = E\n",
        "        Iout[i+1] = I\n",
        "       \n",
        "    if I >= 0.05:\n",
        "      print(S,E,I)\n",
        "      return Sout, Eout, Iout\n",
        "       \n",
        "    return Sout, Eout, Iout\n",
        "    \n"
      ],
      "execution_count": 0,
      "outputs": []
    },
    {
      "cell_type": "code",
      "metadata": {
        "id": "dwTfHyfHNvYK",
        "colab_type": "code",
        "outputId": "34bcdeb0-6735-40cf-bf34-e4c4e5c58cd5",
        "colab": {
          "base_uri": "https://localhost:8080/",
          "height": 281
        }
      },
      "source": [
        "#ON Data as of March 22 2020\n",
        "PopulationON = 14570000  #Census Canada\n",
        "Recovered = 0          #Deceased -> it is impossible to tell if people who have recovered have returned to being infected\n",
        "Infected = 425 - Recovered    #https://www150.statcan.gc.ca/n1/daily-quotidien/200428/dq200428a-eng.htm\n",
        "Succeptible = PopulationON - Infected\n",
        "#Exposed -> true value is unknown -> assume 15% of those who are exposed are not sick\n",
        "\n",
        "xmin = 0; xmax = 4.5;\n",
        "ymin = 0; ymax = .01;\n",
        "\n",
        "#April 24th (640) highest amount of new infected, good data can be found here https://www.saskatchewan.ca/government/health-care-administration-and-provider-resources/treatment-procedures-and-guidelines/emerging-public-health-issues/2019-novel-coronavirus/cases-and-risk-of-covid-19-in-saskatchewan\n",
        "\n",
        "S0 = Succeptible/PopulationON\n",
        "E0 = 0.009\n",
        "I0 = Infected/PopulationON\n",
        "\n",
        "# Set the duration for the simulation\n",
        "dt = 0.05; nt = 100\n",
        "\n",
        "# We pick the parameters as follows\n",
        "alpha = .7       #rate of exposed people that get sick\n",
        "beta  = .6       #rate of interaction of exposed and susceptible\n",
        "gamma = .1       #rate of interaction infected and susceptible\n",
        "mu    = 0.066       #rate of pepole who get resistence or die\n",
        "kE    = 0.       #Exposed people that move around\n",
        "kS    = 0.6       #Susceptible people that move around\n",
        "kI    = 0.08     #Sick people that move around (Diffusion of sick people)\n",
        "theta = torch.tensor([alpha, beta, gamma, mu, kE, kS, kI])\n",
        "\n",
        "P = ['AB', 'BC', 'MB', 'NB', 'NL', 'NT', 'NS', 'NU', 'ON', 'PE', 'QC', 'SK', 'YT']\n",
        "for n in range(1):\n",
        "\n",
        "  S, E, I = integrateSEI(theta,S0,E0,I0,dt,nt)\n",
        "\n",
        "  t = np.arange(nt+1)*dt\n",
        "  title = 'maximum of infected people % on a given day', P[8], torch.max(I).item()\n",
        "  plt.figure(8)\n",
        "  plt.title(title)\n",
        "  plt.plot(t,S,t,E,t,I)\n",
        "\n",
        "  axes = plt.gca()\n",
        "  axes.set_xlim([xmin,xmax])\n",
        "  axes.set_ylim([ymin,ymax])\n"
      ],
      "execution_count": 21,
      "outputs": [
        {
          "output_type": "display_data",
          "data": {
            "image/png": "[encoded data removed]",
            "text/plain": [
              "<Figure size 432x288 with 1 Axes>"
            ]
          },
          "metadata": {
            "tags": [],
            "needs_background": "light"
          }
        }
      ]
    },
    {
      "cell_type": "code",
      "metadata": {
        "id": "iiE0bJG9R_rq",
        "colab_type": "code",
        "colab": {}
      },
      "source": [
        "def ForwardEuler(alpha,beta,gamma,mu,kE,kS,kI,S0,E0,I0,dt,nt):  #Looks to be similar to integrateSEI\n",
        "    \n",
        "    S = torch.zeros(nt+1)\n",
        "    E = torch.zeros(nt+1)\n",
        "    I = torch.zeros(nt+1)\n",
        "    S[0] = S0; E[0] = E0; I[0] = I0\n",
        "    for i in range(nt):\n",
        "        F = Model(alpha,beta,gamma,mu,kE,kS,kI,S[i],E[i],I[i])\n",
        "        S[i+1] = S[i] + dt*F[0]\n",
        "        E[i+1] = E[i] + dt*F[1]\n",
        "        I[i+1] = I[i] + dt*F[2]\n",
        "        \n",
        "    return S, E, I"
      ],
      "execution_count": 0,
      "outputs": []
    },
    {
      "cell_type": "code",
      "metadata": {
        "id": "o_o1vVs0KXhk",
        "colab_type": "code",
        "colab": {}
      },
      "source": [
        "def Model(alpha,beta,gamma,mu,kE,kS,kI,S,E,I):  #Looks to be similar to SEImodel\n",
        "    \n",
        "    F = torch.zeros(3)\n",
        "    F[0]  = -kS*L[n,n]*S - beta*E*S - gamma*I*S                 # dS/dt\n",
        "    F[1]  = -kE*L[n,n]*E + beta*E*S  + gamma*I*S - alpha*E      # dE/dt\n",
        "    F[2]  = -kI*L[n,n]*I + alpha*E - mu*I                       # dI/dt\n",
        "    \n",
        "    return F"
      ],
      "execution_count": 0,
      "outputs": []
    },
    {
      "cell_type": "code",
      "metadata": {
        "id": "tB8wL6-PQdZn",
        "colab_type": "code",
        "outputId": "139ea018-346c-46b0-9fba-4e22fb118409",
        "colab": {
          "base_uri": "https://localhost:8080/",
          "height": 283
        }
      },
      "source": [
        "t = np.arange(nt+1); t = t*dt\n",
        "\n",
        "# Add noise to the data\n",
        "ndata = S.shape\n",
        "nS = torch.randn(ndata[0])*0.05\n",
        "nE = torch.randn(ndata[0])*0.05\n",
        "nI = torch.randn(ndata[0])*0.05\n",
        "\n",
        "Sobs = S+nS; Eobs = E+nE; Iobs = I+nI  #observed plus noise\n",
        "\n",
        "# This is what we observe\n",
        "plt.plot(t,Sobs) #make noise smaller to make the curves nicer\n",
        "plt.plot(t,Eobs)\n",
        "plt.plot(t,Iobs)"
      ],
      "execution_count": 24,
      "outputs": [
        {
          "output_type": "execute_result",
          "data": {
            "text/plain": [
              "[<matplotlib.lines.Line2D at 0x7f432eed9c88>]"
            ]
          },
          "metadata": {
            "tags": []
          },
          "execution_count": 24
        },
        {
          "output_type": "display_data",
          "data": {
            "image/png": "[encoded data removed]",
            "text/plain": [
              "<Figure size 432x288 with 1 Axes>"
            ]
          },
          "metadata": {
            "tags": [],
            "needs_background": "light"
          }
        }
      ]
    },
    {
      "cell_type": "code",
      "metadata": {
        "id": "0wo_V9z6RDLc",
        "colab_type": "code",
        "colab": {}
      },
      "source": [
        "def loss(alpha,beta,gamma,mu,kE,kS,kI,Sobs,Eobs,Iobs,dt,nt):\n",
        "    \n",
        "    Scomp, Ecomp, Icomp = ForwardEuler(alpha,beta,gamma,mu,kE,kS,kI,S0,E0,I0,dt,nt) #comp is computed from code with a chosen beta, gamma \n",
        "    phi = torch.sum((Scomp-Sobs)**2) + torch.sum((Ecomp-Eobs)**2) + torch.sum((Icomp-Iobs)**2) #if comp and obs is the same then phi goes to zero\n",
        "    \n",
        "    return phi"
      ],
      "execution_count": 0,
      "outputs": []
    },
    {
      "cell_type": "code",
      "metadata": {
        "id": "Bj_6cew9K_Pv",
        "colab_type": "code",
        "outputId": "610cc7d9-a7f5-4782-b0ae-1b0f85779599",
        "colab": {
          "base_uri": "https://localhost:8080/",
          "height": 34
        }
      },
      "source": [
        "print(loss(alpha,beta,gamma,mu,kE,kS,kI,S0,E0,I0,dt,nt))"
      ],
      "execution_count": 26,
      "outputs": [
        {
          "output_type": "stream",
          "text": [
            "tensor(92.9532)\n"
          ],
          "name": "stdout"
        }
      ]
    },
    {
      "cell_type": "code",
      "metadata": {
        "id": "HYdlKB4ATMo5",
        "colab_type": "code",
        "colab": {
          "base_uri": "https://localhost:8080/",
          "height": 34
        },
        "outputId": "5153bf99-9078-47ba-d5a3-966d6f401018"
      },
      "source": [
        "theta"
      ],
      "execution_count": 27,
      "outputs": [
        {
          "output_type": "execute_result",
          "data": {
            "text/plain": [
              "tensor([0.7000, 0.6000, 0.1000, 0.0660, 0.0000, 0.6000, 0.0800])"
            ]
          },
          "metadata": {
            "tags": []
          },
          "execution_count": 27
        }
      ]
    },
    {
      "cell_type": "code",
      "metadata": {
        "id": "FVN92klKTdJd",
        "colab_type": "code",
        "colab": {}
      },
      "source": [
        "def SEImodel(theta,S,E,I):\n",
        "    alpha = theta[0]\n",
        "    beta  = theta[1]\n",
        "    gamma = theta[2]\n",
        "    mu    = theta[3]\n",
        "    kE    = theta[4]\n",
        "    kS    = theta[5]\n",
        "    kI    = theta[6]\n",
        "    \n",
        "\n",
        "    dSdt  = -kS*L[n,n]*S - beta*E*S - gamma*I*S                 # dS/dt\n",
        "    dEdt  = -kE*L[n,n]*E + beta*E*S  + gamma*I*S - alpha*E      # dE/dt\n",
        "    dIdt  = -kI*L[n,n]*I + alpha*E - mu*I                       # dI/dt\n",
        "    \n",
        "    return dSdt, dEdt, dIdt"
      ],
      "execution_count": 0,
      "outputs": []
    },
    {
      "cell_type": "code",
      "metadata": {
        "id": "w5SchjfQ3GoN",
        "colab_type": "code",
        "outputId": "966c4d71-7057-48e3-d275-a0793a77e506",
        "colab": {
          "base_uri": "https://localhost:8080/",
          "height": 178
        }
      },
      "source": [
        "# Now we compute gradients\n",
        "x = torch.tensor(theta, requires_grad=True)\n",
        "Sg, Eg, Ig = SEImodel(x,S0,E0,I0)\n",
        "\n",
        "Sg.backward()\n",
        "Eg.backward()\n",
        "Ig.backward()\n",
        "\n",
        "gradSg = x.grad\n",
        "gradEg = x.grad\n",
        "gradIg = x.grad\n",
        "\n",
        "print(gradSg)\n",
        "print(gradEg)\n",
        "print(gradIg)"
      ],
      "execution_count": 29,
      "outputs": [
        {
          "output_type": "stream",
          "text": [
            "tensor([ 0.0000e+00,  0.0000e+00,  0.0000e+00, -2.9170e-05, -5.4000e-02,\n",
            "        -5.9998e+00, -1.7502e-04])\n",
            "tensor([ 0.0000e+00,  0.0000e+00,  0.0000e+00, -2.9170e-05, -5.4000e-02,\n",
            "        -5.9998e+00, -1.7502e-04])\n",
            "tensor([ 0.0000e+00,  0.0000e+00,  0.0000e+00, -2.9170e-05, -5.4000e-02,\n",
            "        -5.9998e+00, -1.7502e-04])\n"
          ],
          "name": "stdout"
        },
        {
          "output_type": "stream",
          "text": [
            "/usr/local/lib/python3.6/dist-packages/ipykernel_launcher.py:1: UserWarning: To copy construct from a tensor, it is recommended to use sourceTensor.clone().detach() or sourceTensor.clone().detach().requires_grad_(True), rather than torch.tensor(sourceTensor).\n",
            "  \"\"\"Entry point for launching an IPython kernel.\n"
          ],
          "name": "stderr"
        }
      ]
    },
    {
      "cell_type": "code",
      "metadata": {
        "id": "S4GwQD4c3Xw4",
        "colab_type": "code",
        "colab": {}
      },
      "source": [
        ""
      ],
      "execution_count": 0,
      "outputs": []
    }
  ]
}