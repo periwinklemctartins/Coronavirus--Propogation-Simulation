{
  "nbformat": 4,
  "nbformat_minor": 0,
  "metadata": {
    "colab": {
      "name": "Untitled0.ipynb",
      "provenance": [],
      "include_colab_link": true
    },
    "kernelspec": {
      "name": "python3",
      "display_name": "Python 3"
    }
  },
  "cells": [
    {
      "cell_type": "markdown",
      "metadata": {
        "id": "view-in-github",
        "colab_type": "text"
      },
      "source": [
        "<a href=\"https://colab.research.google.com/github/periwinklemctartins/Coronavirus--Propogation-Simulation/blob/master/Untitled0.ipynb\" target=\"_parent\"><img src=\"https://colab.research.google.com/assets/colab-badge.svg\" alt=\"Open In Colab\"/></a>"
      ]
    },
    {
      "cell_type": "code",
      "metadata": {
        "id": "LO2bSPsWNlqB",
        "colab_type": "code",
        "colab": {}
      },
      "source": [
        "import pandas as pd\n",
        "import torch\n",
        "import matplotlib.pyplot as plt\n",
        "import matplotlib           \n",
        "import numpy as np\n",
        "import torch.nn as nn\n",
        "import torch.nn.functional as F\n",
        "\n",
        "#Connections between Canadian Provinces\n",
        "A = torch.tensor([[1,     1,     1,     0,     0,     0,     0,     0,     1,     0,     1,     1,     1],\n",
        "                  [1,     1,     1,     0,     0,     1,     0,     0,     1,     0,     1,     1,     0],\n",
        "                  [1,     1,     1,     0,     0,     1,     0,     1,     1,     0,     1,     1,     0],\n",
        "                  [0,     0,     0,     1,     1,     0,     0,     0,     1,     1,     1,     0,     0],\n",
        "                  [0,     0,     0,     1,     1,     0,     1,     0,     1,     1,     1,     0,     0],\n",
        "                  [0,     1,     1,     0,     0,     1,     0,     1,     1,     0,     1,     1,     1],\n",
        "                  [0,     0,     0,     0,     1,     0,     1,     0,     1,     1,     1,     0,     0],\n",
        "                  [0,     0,     1,     0,     0,     1,     0,     1,     1,     0,     1,     1,     1],\n",
        "                  [1,     1,     1,     1,     1,     1,     1,     1,     1,     1,     1,     1,     1],\n",
        "                  [0,     0,     0,     1,     1,     0,     1,     0,     1,     1,     1,     0,     0],\n",
        "                  [1,     1,     1,     1,     1,     1,     1,     1,     1,     1,     1,     1,     1],\n",
        "                  [1,     1,     1,     0,     0,     1,     0,     1,     1,     0,     1,     1,     0],\n",
        "                  [1,     0,     0,     0,     0,     1,     0,     1,     1,     0,     1,     0,     1]]);\n",
        "\n",
        "P = ['AB', 'BC', 'MB', 'NB', 'NL', 'NT', 'NS', 'NU', 'ON', 'PE', 'QC', 'SK', 'YT']\n",
        "#Number of connections each province has                  \n",
        "L = torch.tensor([[6,    -1,    -1,     0,     0,     0,     0,     0,    -1,     0,    -1,    -1,    -1], \n",
        "                  [-1,    6,    -1,     0,     0,    -1,     0,     0,    -1,     0,    -1,    -1,     0],\n",
        "                  [-1,    1,     7,     0,     0,    -1,     0,    -1,    -1,     0,    -1,    -1,     0],\n",
        "                  [0,     0,     0,     4,    -1,     0,     0,     0,    -1,    -1,    -1,     0,     0],\n",
        "                  [0,     0,     0,    -1,     5,     0,    -1,     0,    -1,    -1,    -1,     0,     0],\n",
        "                  [0,    -1,    -1,     0,     0,     7,     0,    -1,    -1,     0,    -1,    -1,    -1],\n",
        "                  [0,     0,     0,     0,    -1,     0,     4,     0,    -1,    -1,    -1,     0,     0],\n",
        "                  [0,     0,    -1,     0,     0,    -1,     0,     6,    -1,     0,    -1,    -1,    -1],\n",
        "                  [-1,    -1,    -1,    -1,    -1,    -1,    -1,    -1,    12,    -1,    -1,    -1,   -1],\n",
        "                  [0,     0,     0,    -1,    -1,     0,    -1,     0,    -1,     5,    -1,     0,     0],\n",
        "                  [-1,    -1,    -1,    -1,    -1,    -1,    -1,    -1,    -1,    -1,    12,    -1,   -1],\n",
        "                  [-1,    -1,    -1,     0,     0,    -1,     0,    -1,    -1,     0,    -1,     7,    0],\n",
        "                  [-1,     0,     0,     0,     0,    -1,     0,    -1,    -1,     0,    -1,     0,    5]]);\n",
        "\n"
      ],
      "execution_count": 0,
      "outputs": []
    },
    {
      "cell_type": "code",
      "metadata": {
        "id": "f8Ls36tkNqqO",
        "colab_type": "code",
        "colab": {}
      },
      "source": [
        "def SEImodel(theta,S,E,I):\n",
        "    alpha = theta[0]\n",
        "    beta  = theta[1]\n",
        "    gamma = theta[2]\n",
        "    mu    = theta[3]\n",
        "    kE    = theta[4]\n",
        "    kS    = theta[5]\n",
        "    kI    = theta[6]\n",
        "    \n",
        "\n",
        "    dSdt  = -kS*L[n,n]*S - beta*E*S - gamma*I*S                 # dS/dt\n",
        "    dEdt  = -kE*L[n,n]*E + beta*E*S  + gamma*I*S - alpha*E      # dE/dt\n",
        "    dIdt  = -kI*L[n,n]*I + alpha*E - mu*I                       # dI/dt\n",
        "    \n",
        "    return dSdt, dEdt, dIdt\n",
        "\n",
        "\n"
      ],
      "execution_count": 0,
      "outputs": []
    },
    {
      "cell_type": "code",
      "metadata": {
        "id": "TjBsWqAWNtIG",
        "colab_type": "code",
        "colab": {}
      },
      "source": [
        "def integrateSEI(theta,S0,E0,I0,dt,nt):\n",
        "    \n",
        "    # vectors to save the results over time\n",
        "    Sout = torch.zeros(nt+1); Sout[0] = S0\n",
        "    Eout = torch.zeros(nt+1); Eout[0] = E0\n",
        "    Iout = torch.zeros(nt+1); Iout[0] = I0\n",
        "    \n",
        "    S = S0; E = E0; I = I0\n",
        "    for i in range(nt):\n",
        "        dSdt, dEdt, dIdt = SEImodel(theta,S,E,I)\n",
        " \n",
        "\n",
        "        S += dt*dSdt\n",
        "        E += dt*dEdt\n",
        "        I += dt*dIdt\n",
        "\n",
        "        Sout[i+1] = S\n",
        "        Eout[i+1] = E\n",
        "        Iout[i+1] = I\n",
        "       \n",
        "    if I >= 0.05:\n",
        "      print(S,E,I)\n",
        "      return Sout, Eout, Iout\n",
        "       \n",
        "    return Sout, Eout, Iout\n",
        "    \n"
      ],
      "execution_count": 0,
      "outputs": []
    },
    {
      "cell_type": "code",
      "metadata": {
        "id": "dwTfHyfHNvYK",
        "colab_type": "code",
        "outputId": "5772f65b-07de-4009-a16f-b57f257f9a0f",
        "colab": {
          "base_uri": "https://localhost:8080/",
          "height": 483
        }
      },
      "source": [
        "#General Data as of April 28 2020\n",
        "PopulationCanada = 35131728  #Census Canada\n",
        "Recovered = 2859          #Deceased -> it is impossible to tell if people who have recovered have returned to being infected\n",
        "Infected = 50015 - Recovered    #https://www150.statcan.gc.ca/n1/daily-quotidien/200428/dq200428a-eng.htm\n",
        "Succeptible = PopulationCanada - Infected\n",
        "#Exposed -> true value is unknown -> assume 15% of those who are exposed are not sick\n",
        "\n",
        "S0 = Succeptible/PopulationCanada \n",
        "E0 = 0.15\n",
        "I0 = Infected/PopulationCanada\n",
        "\n",
        "# Set the duration for the simulation\n",
        "dt = 0.05; nt = 50\n",
        "\n",
        "# We pick the parameters as follows\n",
        "alpha = 0.0       #rate of exposed people that get sick\n",
        "beta  = 0.0       #rate of interaction of exposed and susceptible\n",
        "gamma = 0.0       #rate of interaction infected and susceptible\n",
        "mu    = 0.0       #rate of pepole who get resistence or die\n",
        "kE    = 0.0       #Exposed people that move around\n",
        "kS    = 0.0       #Susceptible people that move around\n",
        "kI    = 0.000     #Sick people that move around (Diffusion of sick people)\n",
        "theta = torch.tensor([alpha, beta, gamma, mu, kE, kS, kI])\n",
        "\n",
        "\n",
        "for n in range(13):\n",
        "  S, E, I = integrateSEI(theta,S0,E0,I0,dt,nt)\n",
        "\n",
        "  t = np.arange(nt+1)*dt\n",
        "  plt.plot(t,S,t,E,t,I)\n",
        "\n",
        "  print('maximum of infected people', P[n], torch.max(I).item())"
      ],
      "execution_count": 46,
      "outputs": [
        {
          "output_type": "stream",
          "text": [
            "maximum of infected people AB 0.0013422624906525016\n",
            "maximum of infected people BC 0.0013422624906525016\n",
            "maximum of infected people MB 0.0013422624906525016\n",
            "maximum of infected people NB 0.0013422624906525016\n",
            "maximum of infected people NL 0.0013422624906525016\n",
            "maximum of infected people NT 0.0013422624906525016\n",
            "maximum of infected people NS 0.0013422624906525016\n",
            "maximum of infected people NU 0.0013422624906525016\n",
            "maximum of infected people ON 0.0013422624906525016\n",
            "maximum of infected people PE 0.0013422624906525016\n",
            "maximum of infected people QC 0.0013422624906525016\n",
            "maximum of infected people SK 0.0013422624906525016\n",
            "maximum of infected people YT 0.0013422624906525016\n"
          ],
          "name": "stdout"
        },
        {
          "output_type": "display_data",
          "data": {
            "image/png": "[encoded data removed]",
            "text/plain": [
              "<Figure size 432x288 with 1 Axes>"
            ]
          },
          "metadata": {
            "tags": [],
            "needs_background": "light"
          }
        }
      ]
    },
    {
      "cell_type": "code",
      "metadata": {
        "id": "iiE0bJG9R_rq",
        "colab_type": "code",
        "colab": {}
      },
      "source": [
        "#def ChemReacTime(beta,gamma,S0,E0,I0,dt,nt):  #Looks to be similar to integrateSEI\n",
        "#    \n",
        "#    A = torch.zeros(nt+1); B = torch.zeros(nt+1)\n",
        "#    S[0] = S0; E[0] = E0; I[0] = I0\n",
        "#    for i in range(nt):\n",
        "#        F = ChemReac(alpha,beta,gamma,S[i],E[i],I[i])\n",
        "#        S[i+1] = S[i] + dt*F[0]\n",
        "#        E[i+1] = E[i] + dt*F[1]\n",
        "#        I[i+1] = I[i] + dt*F[2]\n",
        "#        \n",
        "#    return S, E, I"
      ],
      "execution_count": 0,
      "outputs": []
    },
    {
      "cell_type": "code",
      "metadata": {
        "id": "o_o1vVs0KXhk",
        "colab_type": "code",
        "colab": {}
      },
      "source": [
        "#def ChemReac(alpha,beta,gamma,A,B):  #Looks to be similar to SEImodel\n",
        "#    \n",
        "#    F = torch.zeros(3)\n",
        "#    F[0]  = -kS*L[n,n]*S - beta*E*S - gamma*I*S                 # dS/dt\n",
        "#    F[1]  = -kE*L[n,n]*E + beta*E*S  + gamma*I*S - alpha*E      # dE/dt\n",
        "#    F[2]  = -kI*L[n,n]*I + alpha*E - mu*I                       # dI/dt\n",
        "#    \n",
        "#    return F"
      ],
      "execution_count": 0,
      "outputs": []
    },
    {
      "cell_type": "code",
      "metadata": {
        "id": "tB8wL6-PQdZn",
        "colab_type": "code",
        "outputId": "665a3529-35d4-4d66-9a0a-f66895a48238",
        "colab": {
          "base_uri": "https://localhost:8080/",
          "height": 282
        }
      },
      "source": [
        "t = np.arange(nt+1); t = t*dt\n",
        "\n",
        "# Add noise to the data\n",
        "ndata = S.shape\n",
        "nS = torch.randn(ndata[0])*0.05\n",
        "nE = torch.randn(ndata[0])*0.05\n",
        "nI = torch.randn(ndata[0])*0.05\n",
        "\n",
        "Sobs = S+nS; Eobs = E+nE; Iobs = I+nI  #observed plus noise\n",
        "\n",
        "# This is what we observe\n",
        "plt.plot(t,Sobs) #make noise smaller to make the curves nicer\n",
        "plt.plot(t,Eobs)\n",
        "plt.plot(t,Iobs) \n"
      ],
      "execution_count": 49,
      "outputs": [
        {
          "output_type": "execute_result",
          "data": {
            "text/plain": [
              "[<matplotlib.lines.Line2D at 0x7fc600734630>]"
            ]
          },
          "metadata": {
            "tags": []
          },
          "execution_count": 49
        },
        {
          "output_type": "display_data",
          "data": {
            "image/png": "[encoded data removed]",
            "text/plain": [
              "<Figure size 432x288 with 1 Axes>"
            ]
          },
          "metadata": {
            "tags": [],
            "needs_background": "light"
          }
        }
      ]
    },
    {
      "cell_type": "code",
      "metadata": {
        "id": "0wo_V9z6RDLc",
        "colab_type": "code",
        "outputId": "fd596a11-a99a-4653-bf61-97b21841b39c",
        "colab": {
          "base_uri": "https://localhost:8080/",
          "height": 285
        }
      },
      "source": [
        "def loss(alpha,beta,gamma,Sobs,Eobs,Iobs,nt,dt):\n",
        "    \n",
        "    Scomp, Ecomp, Icomp = integrateSEI(theta,S0,E0,I0,dt,nt) #comp is computed from code with a chosen beta, gamma \n",
        "    phi = torch.sum((Scomp-Sobs)**2) + torch.sum((Ecomp-Eobs)**2) + torch.sum((Icomp-Iobs)**2) #if comp and obs is the same then phi goes to zero\n",
        "    \n",
        "    return phi\n",
        "\n",
        "Phi = torch.zeros(64,64)\n",
        "b = np.arange(64)/64.0; g = np.arange(64)/16.0; h = np.arange(64)/4.0\n",
        "for i in range(64):\n",
        "    for j in range(64):\n",
        "      for k in range(64):\n",
        "        t = loss(b[i],g[j],h[k],Sobs,Eobs,Iobs,nt,dt)        \n",
        "        Phi[i,j] = t\n",
        "        \n",
        "plt.imshow(Phi)\n",
        "plt.colorbar()"
      ],
      "execution_count": 50,
      "outputs": [
        {
          "output_type": "execute_result",
          "data": {
            "text/plain": [
              "<matplotlib.colorbar.Colorbar at 0x7fc601b7b7f0>"
            ]
          },
          "metadata": {
            "tags": []
          },
          "execution_count": 50
        },
        {
          "output_type": "display_data",
          "data": {
            "image/png": "[encoded data removed]",
            "text/plain": [
              "<Figure size 432x288 with 2 Axes>"
            ]
          },
          "metadata": {
            "tags": [],
            "needs_background": "light"
          }
        }
      ]
    },
    {
      "cell_type": "code",
      "metadata": {
        "id": "HYdlKB4ATMo5",
        "colab_type": "code",
        "colab": {}
      },
      "source": [
        "def SumOfSquares(x):\n",
        "    return 0.5*torch.sum(x**2)"
      ],
      "execution_count": 0,
      "outputs": []
    },
    {
      "cell_type": "code",
      "metadata": {
        "id": "FVN92klKTdJd",
        "colab_type": "code",
        "colab": {
          "base_uri": "https://localhost:8080/",
          "height": 171
        },
        "outputId": "d24f1e33-79cb-40a0-fa98-003a6f04a717"
      },
      "source": [
        "# Now we compute gradients\n",
        "x = torch.tensor(S, requires_grad=True)\n",
        "SofSquares = SumOfSquares(x)\n",
        "\n",
        "\n",
        "# Differentiate S, the gradient with respect to S is stored in S\n",
        "SofSquares.backward()\n",
        "grady = x.grad\n",
        "\n",
        "print(grady)\n"
      ],
      "execution_count": 52,
      "outputs": [
        {
          "output_type": "stream",
          "text": [
            "tensor([0.9987, 0.9987, 0.9987, 0.9987, 0.9987, 0.9987, 0.9987, 0.9987, 0.9987,\n",
            "        0.9987, 0.9987, 0.9987, 0.9987, 0.9987, 0.9987, 0.9987, 0.9987, 0.9987,\n",
            "        0.9987, 0.9987, 0.9987, 0.9987, 0.9987, 0.9987, 0.9987, 0.9987, 0.9987,\n",
            "        0.9987, 0.9987, 0.9987, 0.9987, 0.9987, 0.9987, 0.9987, 0.9987, 0.9987,\n",
            "        0.9987, 0.9987, 0.9987, 0.9987, 0.9987, 0.9987, 0.9987, 0.9987, 0.9987,\n",
            "        0.9987, 0.9987, 0.9987, 0.9987, 0.9987, 0.9987])\n"
          ],
          "name": "stdout"
        },
        {
          "output_type": "stream",
          "text": [
            "/usr/local/lib/python3.6/dist-packages/ipykernel_launcher.py:1: UserWarning: To copy construct from a tensor, it is recommended to use sourceTensor.clone().detach() or sourceTensor.clone().detach().requires_grad_(True), rather than torch.tensor(sourceTensor).\n",
            "  \"\"\"Entry point for launching an IPython kernel.\n"
          ],
          "name": "stderr"
        }
      ]
    },
    {
      "cell_type": "code",
      "metadata": {
        "id": "w5SchjfQ3GoN",
        "colab_type": "code",
        "colab": {
          "base_uri": "https://localhost:8080/",
          "height": 171
        },
        "outputId": "dd72ee79-60fb-4cff-86a1-062ce3efa2fa"
      },
      "source": [
        "# Now we compute gradients\n",
        "x = torch.tensor(E, requires_grad=True)\n",
        "EofSquares = SumOfSquares(x)\n",
        "\n",
        "\n",
        "# Differentiate E, the gradient with respect to E is stored in E\n",
        "EofSquares.backward()\n",
        "grady = x.grad\n",
        "\n",
        "print(grady)"
      ],
      "execution_count": 53,
      "outputs": [
        {
          "output_type": "stream",
          "text": [
            "tensor([0.1500, 0.1500, 0.1500, 0.1500, 0.1500, 0.1500, 0.1500, 0.1500, 0.1500,\n",
            "        0.1500, 0.1500, 0.1500, 0.1500, 0.1500, 0.1500, 0.1500, 0.1500, 0.1500,\n",
            "        0.1500, 0.1500, 0.1500, 0.1500, 0.1500, 0.1500, 0.1500, 0.1500, 0.1500,\n",
            "        0.1500, 0.1500, 0.1500, 0.1500, 0.1500, 0.1500, 0.1500, 0.1500, 0.1500,\n",
            "        0.1500, 0.1500, 0.1500, 0.1500, 0.1500, 0.1500, 0.1500, 0.1500, 0.1500,\n",
            "        0.1500, 0.1500, 0.1500, 0.1500, 0.1500, 0.1500])\n"
          ],
          "name": "stdout"
        },
        {
          "output_type": "stream",
          "text": [
            "/usr/local/lib/python3.6/dist-packages/ipykernel_launcher.py:1: UserWarning: To copy construct from a tensor, it is recommended to use sourceTensor.clone().detach() or sourceTensor.clone().detach().requires_grad_(True), rather than torch.tensor(sourceTensor).\n",
            "  \"\"\"Entry point for launching an IPython kernel.\n"
          ],
          "name": "stderr"
        }
      ]
    },
    {
      "cell_type": "code",
      "metadata": {
        "id": "S4GwQD4c3Xw4",
        "colab_type": "code",
        "colab": {
          "base_uri": "https://localhost:8080/",
          "height": 171
        },
        "outputId": "75804512-c48f-4bfc-92e5-6c52173fcf4c"
      },
      "source": [
        "# Now we compute gradients\n",
        "x = torch.tensor(I, requires_grad=True)\n",
        "IofSquares = SumOfSquares(x)\n",
        "\n",
        "\n",
        "# Differentiate I, the gradient with respect to I is stored in I\n",
        "IofSquares.backward()\n",
        "grady = x.grad\n",
        "\n",
        "print(grady)"
      ],
      "execution_count": 54,
      "outputs": [
        {
          "output_type": "stream",
          "text": [
            "tensor([0.0013, 0.0013, 0.0013, 0.0013, 0.0013, 0.0013, 0.0013, 0.0013, 0.0013,\n",
            "        0.0013, 0.0013, 0.0013, 0.0013, 0.0013, 0.0013, 0.0013, 0.0013, 0.0013,\n",
            "        0.0013, 0.0013, 0.0013, 0.0013, 0.0013, 0.0013, 0.0013, 0.0013, 0.0013,\n",
            "        0.0013, 0.0013, 0.0013, 0.0013, 0.0013, 0.0013, 0.0013, 0.0013, 0.0013,\n",
            "        0.0013, 0.0013, 0.0013, 0.0013, 0.0013, 0.0013, 0.0013, 0.0013, 0.0013,\n",
            "        0.0013, 0.0013, 0.0013, 0.0013, 0.0013, 0.0013])\n"
          ],
          "name": "stdout"
        },
        {
          "output_type": "stream",
          "text": [
            "/usr/local/lib/python3.6/dist-packages/ipykernel_launcher.py:1: UserWarning: To copy construct from a tensor, it is recommended to use sourceTensor.clone().detach() or sourceTensor.clone().detach().requires_grad_(True), rather than torch.tensor(sourceTensor).\n",
            "  \"\"\"Entry point for launching an IPython kernel.\n"
          ],
          "name": "stderr"
        }
      ]
    }
  ]
}