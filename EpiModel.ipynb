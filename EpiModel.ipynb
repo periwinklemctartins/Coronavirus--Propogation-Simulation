{
  "nbformat": 4,
  "nbformat_minor": 0,
  "metadata": {
    "kernelspec": {
      "display_name": "Python 3",
      "language": "python",
      "name": "python3"
    },
    "language_info": {
      "codemirror_mode": {
        "name": "ipython",
        "version": 3
      },
      "file_extension": ".py",
      "mimetype": "text/x-python",
      "name": "python",
      "nbconvert_exporter": "python",
      "pygments_lexer": "ipython3",
      "version": "3.7.4"
    },
    "colab": {
      "name": "EpiModel.ipynb",
      "provenance": []
    }
  },
  "cells": [
    {
      "cell_type": "code",
      "metadata": {
        "id": "K7xhdR0ijcqk",
        "colab_type": "code",
        "colab": {}
      },
      "source": [
        "import pandas as pd\n",
        "import torch\n",
        "import matplotlib.pyplot as plt\n",
        "import matplotlib           \n",
        "import numpy as np"
      ],
      "execution_count": 0,
      "outputs": []
    },
    {
      "cell_type": "markdown",
      "metadata": {
        "id": "S_aasZOzjcqq",
        "colab_type": "text"
      },
      "source": [
        "# Compartmental models in epidemiology\n",
        "\n",
        "In the attempt to understand how we can prevent the spread of COVID19, we now review a simple model and see how we can control the spead of the virus.\n",
        "\n",
        "In our model, we consider 4 groups of population\n",
        "1. S - Susceptable, healty people that have no vrus \n",
        "2. E - Exposed, people who contracted the virus but are not sick\n",
        "3. I - Infected, people who were exposed and became sick\n",
        "4. R - Recovered, those who recovered (or died)\n",
        "\n",
        "A typical flow is $S \\rightarrow E \\rightarrow I \\rightarrow R$\n"
      ]
    },
    {
      "cell_type": "markdown",
      "metadata": {
        "id": "FF81oBaMjcqq",
        "colab_type": "text"
      },
      "source": [
        "Let us now consider each of these populations, starting with the susceptable one.\n",
        "\n",
        "The change in the number of the healthy population in a period of time is negatively proportional to the number of healty people and the number of exposed and sick people. \n",
        "$$ {\\frac {\\delta S}{\\delta t}} = - \\beta E S - \\gamma I S. $$\n",
        "\n",
        "The parameters $\\beta$ and $\\gamma$ are determined by the mixing of the populations.\n",
        "It is easier to control $\\gamma$ since we can take better isolation for sick people but the parameter $\\beta$ is harder to control.\n",
        "For close interactions $\\beta$ is large and when interactions are limited it is much smaller. We will see the efect of making $\\beta$ smaller when we run some simulations."
      ]
    },
    {
      "cell_type": "markdown",
      "metadata": {
        "id": "wv5PflyYjcqs",
        "colab_type": "text"
      },
      "source": [
        "Next, we consider the exposed population.\n",
        "The change in the exposed population is positively proportional to the number of healtty individuals. However, since at every period some exposed become sick, the change in exposed is decreasing proportionally to the number of sick people.\n",
        "This yields\n",
        "$$ {\\frac {\\delta E}{\\delta t}} = \\beta E S + \\gamma I S - \\alpha E$$"
      ]
    },
    {
      "cell_type": "markdown",
      "metadata": {
        "id": "TVc9-LHAjcqt",
        "colab_type": "text"
      },
      "source": [
        "Lastly, we consider the infected people. The rate of change is positively proportional to the number of exposed people and negatively proportial to the number of infected people (as people get healthy or die), yielding\n",
        "$$ {\\frac {\\delta I}{\\delta t}} = \\alpha E - \\mu I. $$"
      ]
    },
    {
      "cell_type": "markdown",
      "metadata": {
        "id": "_Ry2JM03jcqu",
        "colab_type": "text"
      },
      "source": [
        "Combining these equations and taking the limit as $\\delta t \\rightarrow 0$ we obtain\n",
        "\\begin{eqnarray}\n",
        "&& {\\frac {d S}{d t}} = - \\beta E S - \\gamma I S \\\\\n",
        "&& {\\frac {d E}{d t}} = \\beta E S  + \\gamma I S - \\alpha E \\\\\n",
        "&& {\\frac {d I}{d t}} = \\alpha E - \\mu I \n",
        "\\end{eqnarray}\n",
        "\n",
        "The equations are equipped with initial conditions on $S, E$ and $I$.\n",
        "We now see how to model and solve these equations numerically."
      ]
    },
    {
      "cell_type": "code",
      "metadata": {
        "id": "Euq0rMlEjcqv",
        "colab_type": "code",
        "colab": {}
      },
      "source": [
        "# First define the right hand side, we store all the parameters\n",
        "# in a single vector theta = [alpha, beta,gamma,mu]\n",
        "def SEImodel(theta,S,E,I):\n",
        "    alpha = theta[0]\n",
        "    beta  = theta[1]\n",
        "    gamma = theta[2]\n",
        "    mu    = theta[3]\n",
        "    \n",
        "    dSdt  = -beta*E*S - gamma*I*S                # dS/dt\n",
        "    dEdt  = beta*E*S  + gamma*I*S - alpha*E      # dE/dt\n",
        "    dIdt  = alpha*E - mu*I                       # dI/dt\n",
        "    \n",
        "    return dSdt, dEdt, dIdt\n",
        "    "
      ],
      "execution_count": 0,
      "outputs": []
    },
    {
      "cell_type": "markdown",
      "metadata": {
        "id": "b6Psc2_fjcqy",
        "colab_type": "text"
      },
      "source": [
        "We now integrate the equation in time using a simple forward Euler"
      ]
    },
    {
      "cell_type": "code",
      "metadata": {
        "id": "iuU_dWbcjcqz",
        "colab_type": "code",
        "colab": {}
      },
      "source": [
        "def integrateSEI(theta,S0,E0,I0,dt,nt):\n",
        "    \n",
        "    # vectors to save the results over time\n",
        "    Sout = torch.zeros(nt+1); Sout[0] = S0\n",
        "    Eout = torch.zeros(nt+1); Eout[0] = E0\n",
        "    Iout = torch.zeros(nt+1); Iout[0] = I0\n",
        "    \n",
        "    S = S0; E = E0; I = I0\n",
        "    for i in range(nt):\n",
        "        dSdt, dEdt, dIdt = SEImodel(theta,S,E,I)\n",
        "        S += dt*dSdt\n",
        "        E += dt*dEdt\n",
        "        I += dt*dIdt\n",
        "        \n",
        "        Sout[i+1] = S; Eout[i+1] = E; Iout[i+1] = I;\n",
        "        \n",
        "    return Sout, Eout, Iout    "
      ],
      "execution_count": 0,
      "outputs": []
    },
    {
      "cell_type": "code",
      "metadata": {
        "id": "oOV7vHTAjcq2",
        "colab_type": "code",
        "outputId": "0db0cb87-40d9-4174-bb33-468e9c758506",
        "colab": {
          "base_uri": "https://localhost:8080/",
          "height": 282
        }
      },
      "source": [
        "# We start with S0  as 99% of the population\n",
        "#               E0  1%\n",
        "#               no sick peaple\n",
        "S0 = 0.99; E0 = 0.01; I0 = 0.0; \n",
        "\n",
        "# Set the duration for the simulation\n",
        "dt = 0.05; nt = 1000\n",
        "\n",
        "# We pick the parameters as follows\n",
        "alpha = 0.2\n",
        "beta  = 0.5\n",
        "gamma = 0.5\n",
        "mu    = 0.075\n",
        "theta = torch.tensor([alpha, beta, gamma, mu])\n",
        "\n",
        "S, E, I = integrateSEI(theta,S0,E0,I0,dt,nt)\n",
        "\n",
        "t = np.arange(nt+1)*dt\n",
        "plt.plot(t,S,t,E,t,I)\n",
        "\n",
        "print('maximum of infected people ', torch.max(I).item())"
      ],
      "execution_count": 0,
      "outputs": [
        {
          "output_type": "stream",
          "text": [
            "maximum of infected people  0.49775537848472595\n"
          ],
          "name": "stdout"
        },
        {
          "output_type": "display_data",
          "data": {
            "image/png": "[encoded data removed]",
            "text/plain": [
              "<Figure size 432x288 with 1 Axes>"
            ]
          },
          "metadata": {
            "tags": []
          }
        }
      ]
    },
    {
      "cell_type": "code",
      "metadata": {
        "id": "zASeZX57jcq7",
        "colab_type": "code",
        "colab": {}
      },
      "source": [
        ""
      ],
      "execution_count": 0,
      "outputs": []
    },
    {
      "cell_type": "markdown",
      "metadata": {
        "id": "x0_W8dpljcq_",
        "colab_type": "text"
      },
      "source": [
        "The blue curve is the susceptible population that declines steadily. The orange in the exposed that increased initially and decreased as the number of susceptible population decays and the grean are sick people.\n",
        "Note that at the peak, 50\\% of the population is sick and this can dramatically increase the mortality rate as hospitals collaps.\n",
        "\n",
        "Our mission is to try and make the peak flatter. We cannot control much. The parameters $\\alpha$ and $\\mu$ are desease dependant. They relate to how fast an exposed person becomes sick and how fast sick people recover or die. We can on the other hand, control to some extent $\\beta$ and $\\gamma$. The parameter $\\gamma$ decrease as we decrease the interaction between sick people and the rest of the population. It can become very small if we isolate sick people and use highly efficient protactive gear when treating them. The parameter $\\beta$ is much more difficult to control. It is the parameter that depend on social interactions.\n",
        "\n",
        "We now run the code again, reducing $\\gamma$ dramatocally, from $0.5$ to $0.01$ and see the reactions"
      ]
    },
    {
      "cell_type": "code",
      "metadata": {
        "id": "0Lm20q0bjcrA",
        "colab_type": "code",
        "outputId": "63b43999-acd8-4615-e07f-acc263901317",
        "colab": {
          "base_uri": "https://localhost:8080/",
          "height": 282
        }
      },
      "source": [
        "alpha = 0.2\n",
        "beta  = 0.5\n",
        "gamma = 0.01\n",
        "mu    = 0.075\n",
        "theta = torch.tensor([alpha, beta, gamma, mu])\n",
        "\n",
        "S, E, I = integrateSEI(theta,S0,E0,I0,dt,nt)\n",
        "\n",
        "t = np.arange(nt+1)*dt\n",
        "plt.plot(t,S,t,E,t,I)\n",
        "\n",
        "print('maximum of infected people ', torch.max(I).item())"
      ],
      "execution_count": 0,
      "outputs": [
        {
          "output_type": "stream",
          "text": [
            "maximum of infected people  0.382425457239151\n"
          ],
          "name": "stdout"
        },
        {
          "output_type": "display_data",
          "data": {
            "image/png": "[encoded data removed]",
            "text/plain": [
              "<Figure size 432x288 with 1 Axes>"
            ]
          },
          "metadata": {
            "tags": []
          }
        }
      ]
    },
    {
      "cell_type": "markdown",
      "metadata": {
        "id": "okCIqapIjcrD",
        "colab_type": "text"
      },
      "source": [
        "By reducing the contact with infected people we managed to \"flatten the curve\" of infected people to 38\\% which is much better than our previous 50\\%.\n",
        "However, having 38\\% of the population sick the number is still to high. We would like to reduce this number much more and for that we need to reduce the social interactions, that is, reduce $\\beta$. Lets assume that the number of social interaction is reduced to a little bit more than a half. This can be obtained by shutting down schools and public events. \n",
        "\n",
        "Since the infection now propages much slower, we use a longer integration period to see the effect."
      ]
    },
    {
      "cell_type": "code",
      "metadata": {
        "id": "ZUU2HjsrjcrE",
        "colab_type": "code",
        "outputId": "fca8c49a-6149-47b4-d306-6f4369f4d896",
        "colab": {
          "base_uri": "https://localhost:8080/",
          "height": 282
        }
      },
      "source": [
        "dt = 0.05; nt = 2000\n",
        "\n",
        "alpha = 0.2\n",
        "beta  = 0.3\n",
        "gamma = 0.01\n",
        "mu    = 0.075\n",
        "theta = torch.tensor([alpha, beta, gamma, mu])\n",
        "\n",
        "S, E, I = integrateSEI(theta,S0,E0,I0,dt,nt)\n",
        "\n",
        "t = np.arange(nt+1)*dt\n",
        "plt.plot(t,S,t,E,t,I)\n",
        "\n",
        "print('maximum of infected people ', torch.max(I).item())"
      ],
      "execution_count": 0,
      "outputs": [
        {
          "output_type": "stream",
          "text": [
            "maximum of infected people  0.17494483292102814\n"
          ],
          "name": "stdout"
        },
        {
          "output_type": "display_data",
          "data": {
            "image/png": "[encoded data removed]",
            "text/plain": [
              "<Figure size 432x288 with 1 Axes>"
            ]
          },
          "metadata": {
            "tags": []
          }
        }
      ]
    },
    {
      "cell_type": "markdown",
      "metadata": {
        "id": "Q8rLgiKajcrG",
        "colab_type": "text"
      },
      "source": [
        "Not only that we reduced the size of the peak, we managed to completely stop the infection and indeed 40\\% of the population never experienced the desease!\n",
        "\n",
        "This is why social distancing is so important and why it can help eliminate the desease all together."
      ]
    },
    {
      "cell_type": "markdown",
      "metadata": {
        "id": "VDlgARgWjcrH",
        "colab_type": "text"
      },
      "source": [
        "# Homework\n",
        "\n",
        "One of the problems that worry heath scientists is that sick people do not become immune but rather go directly back into the susceptible population. The model for this case is\n",
        "\\begin{eqnarray}\n",
        "&& {\\frac {d S}{d t}} = - \\beta E S - \\gamma I S + \\mu I \\\\\n",
        "&& {\\frac {d E}{d t}} = \\beta E S  + \\gamma I S - \\alpha E \\\\\n",
        "&& {\\frac {d I}{d t}} = \\alpha E - \\mu I \n",
        "\\end{eqnarray}\n",
        "\n"
      ]
    },
    {
      "cell_type": "markdown",
      "metadata": {
        "id": "qeSkJQTzjcrI",
        "colab_type": "text"
      },
      "source": [
        "1. Use a similar methodology to the one we used above in order to simulate this case.\n",
        "\n",
        "2. Comparing the previous case how would you change $\\beta$ and $\\gamma$ to deal with the infection? Can you find a combination of $\\beta$ and $\\gamma$ that will make the number of sick people smaller than 5\\% of the population?\n",
        "For this part assume that initially $\\alpha = 0.2$, $\\beta  = 0.3$, $\\gamma = 0.01$ and $\\mu    = 0.01$."
      ]
    },
    {
      "cell_type": "code",
      "metadata": {
        "id": "NALKdEnujcrJ",
        "colab_type": "code",
        "colab": {}
      },
      "source": [
        "def SEImodel(theta,S,E,I):\n",
        "    alpha = theta[0]\n",
        "    beta  = theta[1]\n",
        "    gamma = theta[2]\n",
        "    mu    = theta[3]\n",
        "    \n",
        "    dSdt  = -beta*E*S - gamma*I*S + mu*I         # dS/dt\n",
        "    dEdt  = beta*E*S  + gamma*I*S - alpha*E      # dE/dt\n",
        "    dIdt  = alpha*E - mu*I                       # dI/dt\n",
        "    \n",
        "    return dSdt, dEdt, dIdt"
      ],
      "execution_count": 0,
      "outputs": []
    },
    {
      "cell_type": "code",
      "metadata": {
        "id": "EBa8G7jfjcrL",
        "colab_type": "code",
        "colab": {}
      },
      "source": [
        "def integrateSEI(theta,S0,E0,I0,dt,nt):\n",
        "    \n",
        "    # vectors to save the results over time\n",
        "    Sout = torch.zeros(nt+1); Sout[0] = S0\n",
        "    Eout = torch.zeros(nt+1); Eout[0] = E0\n",
        "    Iout = torch.zeros(nt+1); Iout[0] = I0\n",
        "    \n",
        "    S = S0; E = E0; I = I0\n",
        "    for i in range(nt):\n",
        "        dSdt, dEdt, dIdt = SEImodel(theta,S,E,I)\n",
        "        S += dt*dSdt\n",
        "        E += dt*dEdt\n",
        "        I += dt*dIdt\n",
        "        \n",
        "        Sout[i+1] = S; Eout[i+1] = E; Iout[i+1] = I;\n",
        "\n",
        "    if I >= 0.05:\n",
        "      print(S,E,I)\n",
        "      return Sout, Eout, Iout\n",
        "       \n",
        "\n",
        "    return Sout, Eout, Iout    "
      ],
      "execution_count": 0,
      "outputs": []
    },
    {
      "cell_type": "code",
      "metadata": {
        "id": "i4aOOAiMjcrN",
        "colab_type": "code",
        "outputId": "0ce82abf-f003-4ece-a6c1-1e7529370dad",
        "colab": {
          "base_uri": "https://localhost:8080/",
          "height": 298
        }
      },
      "source": [
        "# We start with S0  as 99% of the population\n",
        "#               E0  1%\n",
        "#               no sick peaple\n",
        "S0 = 0.99; E0 = 0.01; I0 = 0.0; \n",
        "\n",
        "# Set the duration for the simulation\n",
        "dt = 0.05; nt = 2000\n",
        "\n",
        "# We pick the parameters as follows\n",
        "alpha = 0.2\n",
        "beta  = 0.3\n",
        "gamma = 0.01\n",
        "mu    = 0.01\n",
        "theta = torch.tensor([alpha, beta, gamma, mu])\n",
        "\n",
        "S, E, I = integrateSEI(theta,S0,E0,I0,dt,nt)\n",
        "\n",
        "t = np.arange(nt+1)*dt\n",
        "plt.plot(t,S,t,E,t,I)\n",
        "\n",
        "print('maximum of infected people ', torch.max(I).item())"
      ],
      "execution_count": 0,
      "outputs": [
        {
          "output_type": "stream",
          "text": [
            "tensor(0.3904) tensor(0.0277) tensor(0.5819)\n",
            "maximum of infected people  0.5851891040802002\n"
          ],
          "name": "stdout"
        },
        {
          "output_type": "display_data",
          "data": {
            "image/png": "[encoded data removed]",
            "text/plain": [
              "<Figure size 432x288 with 1 Axes>"
            ]
          },
          "metadata": {
            "tags": []
          }
        }
      ]
    },
    {
      "cell_type": "code",
      "metadata": {
        "id": "6Blejro-urQ0",
        "colab_type": "code",
        "outputId": "b052ef80-149f-4ab7-95ef-b8ef3fdbfe14",
        "colab": {
          "base_uri": "https://localhost:8080/",
          "height": 282
        }
      },
      "source": [
        "#For time scale of nt = 2000 \n",
        "\n",
        "dt = 0.05; nt = 2000  \n",
        "\n",
        "alpha = 0.2\n",
        "beta  = 0.119   #change these to get green down to < 5%\n",
        "gamma = 0.01  #change these to get green down to < 5%\n",
        "mu    = 0.01\n",
        "theta = torch.tensor([alpha, beta, gamma, mu])\n",
        "\n",
        "S, E, I = integrateSEI(theta,S0,E0,I0,dt,nt)\n",
        "\n",
        "t = np.arange(nt+1)*dt\n",
        "plt.plot(t,S,t,E,t,I)\n",
        "\n",
        "\n",
        "print('maximum of infected people ', torch.max(I).item())"
      ],
      "execution_count": 0,
      "outputs": [
        {
          "output_type": "stream",
          "text": [
            "maximum of infected people  0.049314916133880615\n"
          ],
          "name": "stdout"
        },
        {
          "output_type": "display_data",
          "data": {
            "image/png": "[encoded data removed]",
            "text/plain": [
              "<Figure size 432x288 with 1 Axes>"
            ]
          },
          "metadata": {
            "tags": []
          }
        }
      ]
    },
    {
      "cell_type": "code",
      "metadata": {
        "id": "pivsx7S6uzvk",
        "colab_type": "code",
        "outputId": "67fcc5ad-f10e-4f1b-f78a-b4b4587e9d04",
        "colab": {
          "base_uri": "https://localhost:8080/",
          "height": 282
        }
      },
      "source": [
        "#For larger time scale of nt = 100,000 \n",
        "\n",
        "dt = 0.05; nt = 100000  \n",
        "\n",
        "alpha = 0.2\n",
        "beta  = 0.07   #change these to get green down to < 5%\n",
        "gamma = 0.007  #change these to get green down to < 5%\n",
        "mu    = 0.01\n",
        "theta = torch.tensor([alpha, beta, gamma, mu])\n",
        "\n",
        "S, E, I = integrateSEI(theta,S0,E0,I0,dt,nt)\n",
        "\n",
        "t = np.arange(nt+1)*dt\n",
        "plt.plot(t,S,t,E,t,I)\n",
        "\n",
        "print('maximum of infected people ', torch.max(I).item())"
      ],
      "execution_count": 0,
      "outputs": [
        {
          "output_type": "stream",
          "text": [
            "maximum of infected people  0.04248739033937454\n"
          ],
          "name": "stdout"
        },
        {
          "output_type": "display_data",
          "data": {
            "image/png": "[encoded data removed]",
            "text/plain": [
              "<Figure size 432x288 with 1 Axes>"
            ]
          },
          "metadata": {
            "tags": []
          }
        }
      ]
    },
    {
      "cell_type": "code",
      "metadata": {
        "id": "BxOxMmd3EN3u",
        "colab_type": "code",
        "colab": {}
      },
      "source": [
        "#when sick people do not become immune but rather go directly back into the susceptible population, the number of sick or deceased people wont decrease but instead plateau"
      ],
      "execution_count": 0,
      "outputs": []
    }
  ]
}