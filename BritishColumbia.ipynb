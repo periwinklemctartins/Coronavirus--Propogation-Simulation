{
  "nbformat": 4,
  "nbformat_minor": 0,
  "metadata": {
    "colab": {
      "name": "Untitled0.ipynb",
      "provenance": [],
      "include_colab_link": true
    },
    "kernelspec": {
      "name": "python3",
      "display_name": "Python 3"
    }
  },
  "cells": [
    {
      "cell_type": "markdown",
      "metadata": {
        "id": "view-in-github",
        "colab_type": "text"
      },
      "source": [
        "<a href=\"https://colab.research.google.com/github/periwinklemctartins/Coronavirus--Propogation-Simulation/blob/master/BritishColumbia.ipynb\" target=\"_parent\"><img src=\"https://colab.research.google.com/assets/colab-badge.svg\" alt=\"Open In Colab\"/></a>"
      ]
    },
    {
      "cell_type": "code",
      "metadata": {
        "id": "LO2bSPsWNlqB",
        "colab_type": "code",
        "colab": {}
      },
      "source": [
        "import pandas as pd\n",
        "import torch\n",
        "import matplotlib.pyplot as plt\n",
        "import matplotlib           \n",
        "import numpy as np\n",
        "import torch.nn as nn\n",
        "import torch.nn.functional as F\n",
        "\n",
        "#Connections between Canadian Provinces\n",
        "A = torch.tensor([[1,     1,     1,     0,     0,     0,     0,     0,     1,     0,     1,     1,     1],\n",
        "                  [1,     1,     1,     0,     0,     1,     0,     0,     1,     0,     1,     1,     0],\n",
        "                  [1,     1,     1,     0,     0,     1,     0,     1,     1,     0,     1,     1,     0],\n",
        "                  [0,     0,     0,     1,     1,     0,     0,     0,     1,     1,     1,     0,     0],\n",
        "                  [0,     0,     0,     1,     1,     0,     1,     0,     1,     1,     1,     0,     0],\n",
        "                  [0,     1,     1,     0,     0,     1,     0,     1,     1,     0,     1,     1,     1],\n",
        "                  [0,     0,     0,     0,     1,     0,     1,     0,     1,     1,     1,     0,     0],\n",
        "                  [0,     0,     1,     0,     0,     1,     0,     1,     1,     0,     1,     1,     1],\n",
        "                  [1,     1,     1,     1,     1,     1,     1,     1,     1,     1,     1,     1,     1],\n",
        "                  [0,     0,     0,     1,     1,     0,     1,     0,     1,     1,     1,     0,     0],\n",
        "                  [1,     1,     1,     1,     1,     1,     1,     1,     1,     1,     1,     1,     1],\n",
        "                  [1,     1,     1,     0,     0,     1,     0,     1,     1,     0,     1,     1,     0],\n",
        "                  [1,     0,     0,     0,     0,     1,     0,     1,     1,     0,     1,     0,     1]]);\n",
        "\n",
        "#Number of connections each province has                  \n",
        "L = torch.tensor([[6,    -1,    -1,     0,     0,     0,     0,     0,    -1,     0,    -1,    -1,    -1], \n",
        "                  [-1,    6,    -1,     0,     0,    -1,     0,     0,    -1,     0,    -1,    -1,     0],\n",
        "                  [-1,    1,     7,     0,     0,    -1,     0,    -1,    -1,     0,    -1,    -1,     0],\n",
        "                  [0,     0,     0,     4,    -1,     0,     0,     0,    -1,    -1,    -1,     0,     0],\n",
        "                  [0,     0,     0,    -1,     5,     0,    -1,     0,    -1,    -1,    -1,     0,     0],\n",
        "                  [0,    -1,    -1,     0,     0,     7,     0,    -1,    -1,     0,    -1,    -1,    -1],\n",
        "                  [0,     0,     0,     0,    -1,     0,     4,     0,    -1,    -1,    -1,     0,     0],\n",
        "                  [0,     0,    -1,     0,     0,    -1,     0,     6,    -1,     0,    -1,    -1,    -1],\n",
        "                  [-1,    -1,    -1,    -1,    -1,    -1,    -1,    -1,    12,    -1,    -1,    -1,   -1],\n",
        "                  [0,     0,     0,    -1,    -1,     0,    -1,     0,    -1,     5,    -1,     0,     0],\n",
        "                  [-1,    -1,    -1,    -1,    -1,    -1,    -1,    -1,    -1,    -1,    12,    -1,   -1],\n",
        "                  [-1,    -1,    -1,     0,     0,    -1,     0,    -1,    -1,     0,    -1,     7,    0],\n",
        "                  [-1,     0,     0,     0,     0,    -1,     0,    -1,    -1,     0,    -1,     0,    5]]);\n",
        "\n"
      ],
      "execution_count": 0,
      "outputs": []
    },
    {
      "cell_type": "code",
      "metadata": {
        "id": "f8Ls36tkNqqO",
        "colab_type": "code",
        "colab": {}
      },
      "source": [
        "def SEImodel(theta,S,E,I):\n",
        "    alpha = theta[0]\n",
        "    beta  = theta[1]\n",
        "    gamma = theta[2]\n",
        "    mu    = theta[3]\n",
        "    kE    = theta[4]\n",
        "    kS    = theta[5]\n",
        "    kI    = theta[6]\n",
        "    \n",
        "\n",
        "    dSdt  = -kS*L[n,n]*S - beta*E*S - gamma*I*S                 # dS/dt\n",
        "    dEdt  = -kE*L[n,n]*E + beta*E*S  + gamma*I*S - alpha*E      # dE/dt\n",
        "    dIdt  = -kI*L[n,n]*I + alpha*E - mu*I                       # dI/dt\n",
        "    \n",
        "    return dSdt, dEdt, dIdt\n",
        "\n",
        "\n"
      ],
      "execution_count": 0,
      "outputs": []
    },
    {
      "cell_type": "code",
      "metadata": {
        "id": "TjBsWqAWNtIG",
        "colab_type": "code",
        "colab": {}
      },
      "source": [
        "def integrateSEI(theta,S0,E0,I0,dt,nt):\n",
        "    \n",
        "    # vectors to save the results over time\n",
        "    Sout = torch.zeros(nt+1); Sout[0] = S0\n",
        "    Eout = torch.zeros(nt+1); Eout[0] = E0\n",
        "    Iout = torch.zeros(nt+1); Iout[0] = I0\n",
        "    \n",
        "    S = S0; E = E0; I = I0\n",
        "    for i in range(nt):\n",
        "        dSdt, dEdt, dIdt = SEImodel(theta,S,E,I)\n",
        " \n",
        "\n",
        "        S += dt*dSdt\n",
        "        E += dt*dEdt\n",
        "        I += dt*dIdt\n",
        "\n",
        "        Sout[i+1] = S\n",
        "        Eout[i+1] = E\n",
        "        Iout[i+1] = I\n",
        "       \n",
        "    if I >= 0.05:\n",
        "      print(S,E,I)\n",
        "      return Sout, Eout, Iout\n",
        "       \n",
        "    return Sout, Eout, Iout\n",
        "    \n"
      ],
      "execution_count": 0,
      "outputs": []
    },
    {
      "cell_type": "code",
      "metadata": {
        "id": "dwTfHyfHNvYK",
        "colab_type": "code",
        "outputId": "96be3502-8fa2-47a4-e8d6-d8e65ee2515c",
        "colab": {
          "base_uri": "https://localhost:8080/",
          "height": 280
        }
      },
      "source": [
        "#BC Data as of Marc 22 2020\n",
        "PopulationBC = 5071000  #Census Canada\n",
        "Recovered = 0          #Deceased -> it is impossible to tell if people who have recovered have returned to being infected\n",
        "Infected = 472 - Recovered    #https://www150.statcan.gc.ca/n1/daily-quotidien/200428/dq200428a-eng.htm\n",
        "Succeptible = PopulationBC - Infected\n",
        "#Exposed -> true value is unknown -> assume 15% of those who are exposed are not sick\n",
        "\n",
        "S0 = Succeptible/PopulationBC \n",
        "E0 = 0.15\n",
        "I0 = Infected/PopulationBC\n",
        "\n",
        "# Set the duration for the simulation\n",
        "dt = 0.05; nt = 50\n",
        "\n",
        "# We pick the parameters as follows\n",
        "alpha = .7       #rate of exposed people that get sick\n",
        "beta  = .3       #rate of interaction of exposed and susceptible\n",
        "gamma = .2       #rate of interaction infected and susceptible\n",
        "mu    = 0.015       #rate of pepole who get resistence or die\n",
        "kE    = 0.5       #Exposed people that move around\n",
        "kS    = 0.6       #Susceptible people that move around\n",
        "kI    = 0.37     #Sick people that move around (Diffusion of sick people)\n",
        "theta = torch.tensor([alpha, beta, gamma, mu, kE, kS, kI])\n",
        "\n"
        #March 27th highest amount of new infected (approx), good data can be found here https://experience.arcgis.com/experience/a6f23959a8b14bfa989e3cda29297ded
        "\n",
        "P = ['AB', 'BC', 'MB', 'NB', 'NL', 'NT', 'NS', 'NU', 'ON', 'PE', 'QC', 'SK', 'YT']\n",
        "for n in range(1):\n",
        "\n",
        "  S, E, I = integrateSEI(theta,S0,E0,I0,dt,nt)\n",
        "\n",
        "  t = np.arange(nt+1)*dt\n",
        "  title = 'maximum of infected people %', P[1], torch.max(I).item()\n",
        "  plt.figure(1)\n",
        "  plt.title(title)\n",
        "  plt.plot(t,S,t,E,t,I)\n"
      ],
      "execution_count": 100,
      "outputs": [
        {
          "output_type": "display_data",
          "data": {
            "image/png": "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\n",
            "text/plain": [
              "<Figure size 432x288 with 1 Axes>"
            ]
          },
          "metadata": {
            "tags": [],
            "needs_background": "light"
          }
        }
      ]
    },
    {
      "cell_type": "code",
      "metadata": {
        "id": "iiE0bJG9R_rq",
        "colab_type": "code",
        "colab": {}
      },
      "source": [
        "#def ChemReacTime(beta,gamma,S0,E0,I0,dt,nt):  #Looks to be similar to integrateSEI\n",
        "#    \n",
        "#    A = torch.zeros(nt+1); B = torch.zeros(nt+1)\n",
        "#    S[0] = S0; E[0] = E0; I[0] = I0\n",
        "#    for i in range(nt):\n",
        "#        F = ChemReac(alpha,beta,gamma,S[i],E[i],I[i])\n",
        "#        S[i+1] = S[i] + dt*F[0]\n",
        "#        E[i+1] = E[i] + dt*F[1]\n",
        "#        I[i+1] = I[i] + dt*F[2]\n",
        "#        \n",
        "#    return S, E, I"
      ],
      "execution_count": 0,
      "outputs": []
    },
    {
      "cell_type": "code",
      "metadata": {
        "id": "o_o1vVs0KXhk",
        "colab_type": "code",
        "colab": {}
      },
      "source": [
        "#def ChemReac(alpha,beta,gamma,A,B):  #Looks to be similar to SEImodel\n",
        "#    \n",
        "#    F = torch.zeros(3)\n",
        "#    F[0]  = -kS*L[n,n]*S - beta*E*S - gamma*I*S                 # dS/dt\n",
        "#    F[1]  = -kE*L[n,n]*E + beta*E*S  + gamma*I*S - alpha*E      # dE/dt\n",
        "#    F[2]  = -kI*L[n,n]*I + alpha*E - mu*I                       # dI/dt\n",
        "#    \n",
        "#    return F"
      ],
      "execution_count": 0,
      "outputs": []
    },
    {
      "cell_type": "code",
      "metadata": {
        "id": "tB8wL6-PQdZn",
        "colab_type": "code",
        "colab": {}
      },
      "source": [
        "t = np.arange(nt+1); t = t*dt\n",
        "\n",
        "# Add noise to the data\n",
        "ndata = S.shape\n",
        "nS = torch.randn(ndata[0])*0.05\n",
        "nE = torch.randn(ndata[0])*0.05\n",
        "nI = torch.randn(ndata[0])*0.05\n",
        "\n",
        "Sobs = S+nS; Eobs = E+nE; Iobs = I+nI  #observed plus noise\n",
        "\n",
        "# This is what we observe\n",
        "plt.plot(t,Sobs) #make noise smaller to make the curves nicer\n",
        "plt.plot(t,Eobs)\n",
        "plt.plot(t,Iobs) \n"
      ],
      "execution_count": 0,
      "outputs": []
    },
    {
      "cell_type": "code",
      "metadata": {
        "id": "0wo_V9z6RDLc",
        "colab_type": "code",
        "colab": {}
      },
      "source": [
        "def loss(alpha,beta,gamma,Sobs,Eobs,Iobs,nt,dt):\n",
        "    \n",
        "    Scomp, Ecomp, Icomp = integrateSEI(theta,S0,E0,I0,dt,nt) #comp is computed from code with a chosen beta, gamma \n",
        "    phi = torch.sum((Scomp-Sobs)**2) + torch.sum((Ecomp-Eobs)**2) + torch.sum((Icomp-Iobs)**2) #if comp and obs is the same then phi goes to zero\n",
        "    \n",
        "    return phi\n"
      ],
      "execution_count": 0,
      "outputs": []
    },
    {
      "cell_type": "code",
      "metadata": {
        "id": "Bj_6cew9K_Pv",
        "colab_type": "code",
        "colab": {}
      },
      "source": [
        "Phi = torch.zeros(64,64)\n",
        "b = np.arange(64)/64.0; g = np.arange(64)/16.0; h = np.arange(64)/4.0;\n",
        "for i in range(64):\n",
        "    for j in range(64):\n",
        "      for k in range(64):\n",
        "        t = loss(b[i],g[j],h[k],Sobs,Eobs,Iobs,nt,dt)        \n",
        "        Phi[i,j] = t\n",
        "print(loss(alpha,beta,gamma,Sobs,Eobs,Iobs,nt,dt))       \n",
        "plt.imshow(Phi)\n",
        "plt.colorbar()"
      ],
      "execution_count": 0,
      "outputs": []
    },
    {
      "cell_type": "code",
      "metadata": {
        "id": "HYdlKB4ATMo5",
        "colab_type": "code",
        "colab": {}
      },
      "source": [
        "def SumOfSquares(x):\n",
        "    return 0.5*torch.sum(x**2)"
      ],
      "execution_count": 0,
      "outputs": []
    },
    {
      "cell_type": "code",
      "metadata": {
        "id": "FVN92klKTdJd",
        "colab_type": "code",
        "colab": {}
      },
      "source": [
        "# Now we compute gradients\n",
        "x = torch.tensor(S, requires_grad=True)\n",
        "SofSquares = SumOfSquares(x)\n",
        "\n",
        "\n",
        "# Differentiate S, the gradient with respect to S is stored in S\n",
        "SofSquares.backward()\n",
        "grady = x.grad\n",
        "\n",
        "print(grady)\n"
      ],
      "execution_count": 0,
      "outputs": []
    },
    {
      "cell_type": "code",
      "metadata": {
        "id": "w5SchjfQ3GoN",
        "colab_type": "code",
        "colab": {}
      },
      "source": [
        "# Now we compute gradients\n",
        "x = torch.tensor(E, requires_grad=True)\n",
        "EofSquares = SumOfSquares(x)\n",
        "\n",
        "\n",
        "# Differentiate E, the gradient with respect to E is stored in E\n",
        "EofSquares.backward()\n",
        "grady = x.grad\n",
        "\n",
        "print(grady)"
      ],
      "execution_count": 0,
      "outputs": []
    },
    {
      "cell_type": "code",
      "metadata": {
        "id": "S4GwQD4c3Xw4",
        "colab_type": "code",
        "colab": {}
      },
      "source": [
        "# Now we compute gradients\n",
        "x = torch.tensor(I, requires_grad=True)\n",
        "IofSquares = SumOfSquares(x)\n",
        "\n",
        "\n",
        "# Differentiate I, the gradient with respect to I is stored in I\n",
        "IofSquares.backward()\n",
        "grady = x.grad\n",
        "\n",
        "print(grady)"
      ],
      "execution_count": 0,
      "outputs": []
    }
  ]
}
