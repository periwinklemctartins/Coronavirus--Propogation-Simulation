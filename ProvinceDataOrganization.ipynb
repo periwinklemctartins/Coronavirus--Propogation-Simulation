{
  "nbformat": 4,
  "nbformat_minor": 0,
  "metadata": {
    "colab": {
      "name": "ProvinceDataOrganization.ipynb",
      "provenance": [],
      "authorship_tag": "ABX9TyO/851tZ6M1bG0QfR+S3g+3",
      "include_colab_link": true
    },
    "kernelspec": {
      "name": "python3",
      "display_name": "Python 3"
    }
  },
  "cells": [
    {
      "cell_type": "markdown",
      "metadata": {
        "id": "view-in-github",
        "colab_type": "text"
      },
      "source": [
        "<a href=\"https://colab.research.google.com/github/periwinklemctartins/Coronavirus--Propogation-Simulation/blob/master/ProvinceDataOrganization.ipynb\" target=\"_parent\"><img src=\"https://colab.research.google.com/assets/colab-badge.svg\" alt=\"Open In Colab\"/></a>"
      ]
    },
    {
      "cell_type": "code",
      "metadata": {
        "id": "6rAuMp8r70DM",
        "colab_type": "code",
        "colab": {}
      },
      "source": [
        "# province = [abrev, population, # of initial infections, time between first case in Canada and first case in province]\n",
        "\n",
        "AB = ['AB', 4413146, 1, 37]\n",
        "BC = ['BC', 5110917, 1, 0]\n",
        "MB = ['MB', 1377517, 1, 42]\n",
        "NB = ['NB', 779993, 1, 42]\n",
        "NL = ['NL', 521365, 1, 48]\n",
        "NT = ['NT', 44904, 1, 50]\n",
        "NS = ['NS', 977457, 1, 47]\n",
        "NU = ['NU', 39097, 0, 0]\n",
        "ON = ['ON', 14711827, 3, 0]\n",
        "PE = ['PE', 158158, 1, 44]\n",
        "QC = ['QC', 8537674, 1, 30]\n",
        "SK = ['SK', 1181666, 1, 45]\n",
        "YT = ['YT', 41078, 2, 52]\n",
        "\n",
        "Province = [ AB, BC, MB, NB, NL, NT, NS, NU, ON, PE, QC, SK, YT ]\n",
        "\n",
        "# You can access any of the parameters concerning the provinces using this \n",
        "for n in range(13):\n",
        "    temp = Province[n]\n",
        "    print(temp[1])"
      ],
      "execution_count": 0,
      "outputs": []
    }
  ]
}